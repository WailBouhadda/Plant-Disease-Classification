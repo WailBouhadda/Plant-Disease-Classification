{
  "nbformat": 4,
  "nbformat_minor": 0,
  "metadata": {
    "colab": {
      "provenance": [],
      "gpuType": "T4"
    },
    "kernelspec": {
      "name": "python3",
      "display_name": "Python 3"
    },
    "language_info": {
      "name": "python"
    },
    "accelerator": "GPU"
  },
  "cells": [
    {
      "cell_type": "code",
      "source": [
        "from google.colab import drive\n",
        "drive.mount('/content/drive')\n"
      ],
      "metadata": {
        "id": "q3ntLtRU6KCg",
        "colab": {
          "base_uri": "https://localhost:8080/"
        },
        "outputId": "986f228b-72f0-4e40-8d8f-03678b2d19a7"
      },
      "execution_count": null,
      "outputs": [
        {
          "output_type": "stream",
          "name": "stdout",
          "text": [
            "Mounted at /content/drive\n"
          ]
        }
      ]
    },
    {
      "cell_type": "code",
      "source": [
        "import tensorflow as tf\n",
        "tf.test.gpu_device_name()"
      ],
      "metadata": {
        "id": "eFotbdpY7Ivs",
        "colab": {
          "base_uri": "https://localhost:8080/",
          "height": 36
        },
        "outputId": "72dfaf35-b346-4a3a-f0ea-b70ba92904b8"
      },
      "execution_count": null,
      "outputs": [
        {
          "output_type": "execute_result",
          "data": {
            "text/plain": [
              "'/device:GPU:0'"
            ],
            "application/vnd.google.colaboratory.intrinsic+json": {
              "type": "string"
            }
          },
          "metadata": {},
          "execution_count": 2
        }
      ]
    },
    {
      "cell_type": "code",
      "source": [
        "import zipfile\n",
        "zip_file_path = '/content/drive/MyDrive/wail/PlantVillage1.zip'\n",
        "extract_folder = '/content/sample_data/PlantVillage'\n",
        "\n",
        "with zipfile.ZipFile(zip_file_path, 'r') as zip_ref:\n",
        "    zip_ref.extractall(extract_folder)\n",
        "\n",
        "print(f\"Successfully extracted contents to {extract_folder}\")"
      ],
      "metadata": {
        "id": "YsNfgdDqZAuY",
        "colab": {
          "base_uri": "https://localhost:8080/"
        },
        "outputId": "5db16ed6-17ed-46f7-8357-560ce0887fbf"
      },
      "execution_count": null,
      "outputs": [
        {
          "output_type": "stream",
          "name": "stdout",
          "text": [
            "Successfully extracted contents to /content/sample_data/PlantVillage\n"
          ]
        }
      ]
    },
    {
      "cell_type": "code",
      "execution_count": null,
      "metadata": {
        "id": "hCL6QIGVfxPd"
      },
      "outputs": [],
      "source": [
        "import matplotlib.pyplot as plt\n",
        "import numpy as np\n",
        "import tensorflow as tf\n",
        "\n",
        "import tensorflow_datasets as tfds\n",
        "import cv2\n",
        "import os\n",
        "\n",
        "from tensorflow.keras.utils import to_categorical\n",
        "from sklearn.model_selection import train_test_split\n",
        "from tensorflow.keras.preprocessing.image import img_to_array, load_img"
      ]
    },
    {
      "cell_type": "code",
      "source": [
        "img_size = (256,256)\n",
        "data_path = \"/content/sample_data/PlantVillage/PlantVillage\""
      ],
      "metadata": {
        "id": "vcsYS51xf427"
      },
      "execution_count": null,
      "outputs": []
    },
    {
      "cell_type": "code",
      "source": [
        "diseases = os.listdir(os.path.join(data_path,'train'))\n",
        "plants = os.listdir(os.path.join(data_path,'plantTrain'))"
      ],
      "metadata": {
        "id": "5kdYYCQD9z_f"
      },
      "execution_count": null,
      "outputs": []
    },
    {
      "cell_type": "code",
      "source": [
        "plants"
      ],
      "metadata": {
        "id": "Yks7lzW0ZKNE",
        "colab": {
          "base_uri": "https://localhost:8080/"
        },
        "outputId": "2f9f3d01-7d08-44e8-b547-1377578ec311"
      },
      "execution_count": null,
      "outputs": [
        {
          "output_type": "execute_result",
          "data": {
            "text/plain": [
              "['Corn_(maize)',\n",
              " 'Blueberry',\n",
              " 'Tomato',\n",
              " 'Raspberry',\n",
              " 'Soybean',\n",
              " 'Strawberry',\n",
              " 'Pepper,_bell',\n",
              " 'Cherry_(including_sour)',\n",
              " 'Grape',\n",
              " 'Apple',\n",
              " 'Potato',\n",
              " 'background',\n",
              " 'Squash',\n",
              " 'Orange',\n",
              " 'Peach']"
            ]
          },
          "metadata": {},
          "execution_count": 7
        }
      ]
    },
    {
      "cell_type": "code",
      "source": [
        "diseases"
      ],
      "metadata": {
        "id": "gvRXcHSKgwff",
        "colab": {
          "base_uri": "https://localhost:8080/"
        },
        "outputId": "699c1988-61fa-4b36-da43-877274c70bce"
      },
      "execution_count": null,
      "outputs": [
        {
          "output_type": "execute_result",
          "data": {
            "text/plain": [
              "['Cherry_(including_sour)___Powdery_mildew',\n",
              " 'Raspberry___healthy',\n",
              " 'Corn_(maize)___Cercospora_leaf_spot Gray_leaf_spot',\n",
              " 'Cherry_(including_sour)___healthy',\n",
              " 'Tomato___Bacterial_spot',\n",
              " 'Apple___healthy',\n",
              " 'Strawberry___healthy',\n",
              " 'Grape___Black_rot',\n",
              " 'Tomato___Septoria_leaf_spot',\n",
              " 'Potato___Late_blight',\n",
              " 'Tomato___Tomato_mosaic_virus',\n",
              " 'Apple___Apple_scab',\n",
              " 'Blueberry___healthy',\n",
              " 'Orange___Haunglongbing_(Citrus_greening)',\n",
              " 'Peach___healthy',\n",
              " 'Potato___healthy',\n",
              " 'Tomato___Leaf_Mold',\n",
              " 'Corn_(maize)___healthy',\n",
              " 'Strawberry___Leaf_scorch',\n",
              " 'Potato___Early_blight',\n",
              " 'Tomato___Tomato_Yellow_Leaf_Curl_Virus',\n",
              " 'Pepper,_bell___healthy',\n",
              " 'Squash___Powdery_mildew',\n",
              " 'Tomato___Early_blight',\n",
              " 'Peach___Bacterial_spot',\n",
              " 'Tomato___healthy',\n",
              " 'Tomato___Target_Spot',\n",
              " 'Soybean___healthy',\n",
              " 'Apple___Cedar_apple_rust',\n",
              " 'Corn_(maize)___Northern_Leaf_Blight',\n",
              " 'Corn_(maize)___Common_rust_',\n",
              " 'Grape___Esca_(Black_Measles)',\n",
              " 'Tomato___Late_blight',\n",
              " 'Tomato___Spider_mites Two-spotted_spider_mite',\n",
              " 'Pepper,_bell___Bacterial_spot',\n",
              " 'Grape___Leaf_blight_(Isariopsis_Leaf_Spot)',\n",
              " 'Apple___Black_rot',\n",
              " 'Grape___healthy']"
            ]
          },
          "metadata": {},
          "execution_count": 8
        }
      ]
    },
    {
      "cell_type": "code",
      "source": [
        "import tensorflow as tf\n",
        "from tensorflow.keras.models import Sequential\n",
        "from tensorflow.keras.layers import Conv2D, MaxPooling2D, Flatten, Dense, Dropout"
      ],
      "metadata": {
        "id": "qO3GOsK4LleD"
      },
      "execution_count": null,
      "outputs": []
    },
    {
      "cell_type": "code",
      "source": [
        "from tensorflow.keras.preprocessing.image import ImageDataGenerator\n",
        "\n",
        "batch_size = 256\n",
        "\n",
        "train_datagen = ImageDataGenerator(rescale=1./255)\n",
        "test_datagen = ImageDataGenerator(rescale=1./255)\n",
        "\n",
        "train_generator = train_datagen.flow_from_directory(\n",
        "    os.path.join(data_path, \"plantTrain\"),\n",
        "    target_size=img_size,\n",
        "    batch_size=batch_size,\n",
        "    class_mode='categorical',\n",
        ")\n",
        "\n",
        "test_generator = test_datagen.flow_from_directory(\n",
        "    os.path.join(data_path, \"PlantVal\"),\n",
        "    target_size=img_size,\n",
        "    batch_size=batch_size,\n",
        "    class_mode='categorical',\n",
        ")"
      ],
      "metadata": {
        "id": "v60RjBEP97fL",
        "colab": {
          "base_uri": "https://localhost:8080/"
        },
        "outputId": "670d1fec-622d-4cb6-c09b-acdc290db860"
      },
      "execution_count": null,
      "outputs": [
        {
          "output_type": "stream",
          "name": "stdout",
          "text": [
            "Found 79135 images belonging to 15 classes.\n",
            "Found 9835 images belonging to 15 classes.\n"
          ]
        }
      ]
    },
    {
      "cell_type": "code",
      "source": [
        "image_shape = (256, 256, 3)\n",
        "\n",
        "model = Sequential()\n",
        "model.add(Conv2D(32, (3, 3), activation='relu', input_shape=image_shape))\n",
        "model.add(MaxPooling2D((2, 2)))\n",
        "model.add(Dropout(0.25))\n",
        "\n",
        "\n",
        "model.add(Conv2D(64, (3, 3), activation='relu'))\n",
        "model.add(MaxPooling2D((2, 2)))\n",
        "model.add(Dropout(0.25))\n",
        "\n",
        "\n",
        "model.add(Conv2D(128, (3, 3), activation='relu'))\n",
        "model.add(MaxPooling2D((2, 2)))\n",
        "model.add(Dropout(0.25))\n",
        "\n",
        "\n",
        "model.add(Conv2D(128, (3, 3), activation='relu'))\n",
        "model.add(MaxPooling2D((2, 2)))\n",
        "\n",
        "\n",
        "model.add(Flatten())\n",
        "\n",
        "\n",
        "model.add(Dense(256, activation='relu'))\n",
        "model.add(Dropout(0.25))\n",
        "\n",
        "\n",
        "model.add(Dense(128, activation='relu'))\n",
        "model.add(Dropout(0.25))\n",
        "\n",
        "\n",
        "model.add(Dense(15, activation='softmax'))\n",
        "\n",
        "\n",
        "model.compile(loss = \"categorical_crossentropy\",\n",
        "             optimizer = \"adam\",\n",
        "             metrics = [\"accuracy\"])"
      ],
      "metadata": {
        "id": "-wG5HdgH2XFj"
      },
      "execution_count": null,
      "outputs": []
    },
    {
      "cell_type": "code",
      "source": [
        "# model = tf.keras.models.load_model('/content/drive/MyDrive/wail/ep230.kera')\n",
        "model.summary()"
      ],
      "metadata": {
        "id": "pDyFC0ZVb-E7",
        "colab": {
          "base_uri": "https://localhost:8080/"
        },
        "outputId": "0e8d10c7-44de-4f97-9d36-4dacaf6e4ed6"
      },
      "execution_count": null,
      "outputs": [
        {
          "output_type": "stream",
          "name": "stdout",
          "text": [
            "Model: \"sequential\"\n",
            "_________________________________________________________________\n",
            " Layer (type)                Output Shape              Param #   \n",
            "=================================================================\n",
            " conv2d (Conv2D)             (None, 254, 254, 32)      896       \n",
            "                                                                 \n",
            " max_pooling2d (MaxPooling2  (None, 127, 127, 32)      0         \n",
            " D)                                                              \n",
            "                                                                 \n",
            " dropout (Dropout)           (None, 127, 127, 32)      0         \n",
            "                                                                 \n",
            " conv2d_1 (Conv2D)           (None, 125, 125, 64)      18496     \n",
            "                                                                 \n",
            " max_pooling2d_1 (MaxPoolin  (None, 62, 62, 64)        0         \n",
            " g2D)                                                            \n",
            "                                                                 \n",
            " dropout_1 (Dropout)         (None, 62, 62, 64)        0         \n",
            "                                                                 \n",
            " conv2d_2 (Conv2D)           (None, 60, 60, 128)       73856     \n",
            "                                                                 \n",
            " max_pooling2d_2 (MaxPoolin  (None, 30, 30, 128)       0         \n",
            " g2D)                                                            \n",
            "                                                                 \n",
            " dropout_2 (Dropout)         (None, 30, 30, 128)       0         \n",
            "                                                                 \n",
            " conv2d_3 (Conv2D)           (None, 28, 28, 128)       147584    \n",
            "                                                                 \n",
            " max_pooling2d_3 (MaxPoolin  (None, 14, 14, 128)       0         \n",
            " g2D)                                                            \n",
            "                                                                 \n",
            " flatten (Flatten)           (None, 25088)             0         \n",
            "                                                                 \n",
            " dense (Dense)               (None, 256)               6422784   \n",
            "                                                                 \n",
            " dropout_3 (Dropout)         (None, 256)               0         \n",
            "                                                                 \n",
            " dense_1 (Dense)             (None, 128)               32896     \n",
            "                                                                 \n",
            " dropout_4 (Dropout)         (None, 128)               0         \n",
            "                                                                 \n",
            " dense_2 (Dense)             (None, 15)                1935      \n",
            "                                                                 \n",
            "=================================================================\n",
            "Total params: 6698447 (25.55 MB)\n",
            "Trainable params: 6698447 (25.55 MB)\n",
            "Non-trainable params: 0 (0.00 Byte)\n",
            "_________________________________________________________________\n"
          ]
        }
      ]
    },
    {
      "cell_type": "code",
      "source": [
        "history = model.fit(\n",
        "    train_generator,\n",
        "    steps_per_epoch=train_generator.samples // batch_size,\n",
        "    epochs=5,\n",
        "    validation_data=test_generator,\n",
        "    validation_steps=test_generator.samples // batch_size,\n",
        ")"
      ],
      "metadata": {
        "colab": {
          "base_uri": "https://localhost:8080/"
        },
        "id": "BCH1XgIxchk9",
        "outputId": "67294b46-c060-4bc2-9c8d-724684f2e90c"
      },
      "execution_count": null,
      "outputs": [
        {
          "output_type": "stream",
          "name": "stdout",
          "text": [
            "Epoch 1/5\n",
            "309/309 [==============================] - 341s 1s/step - loss: 0.1254 - accuracy: 0.9606 - val_loss: 0.4353 - val_accuracy: 0.9007\n",
            "Epoch 2/5\n",
            "309/309 [==============================] - 342s 1s/step - loss: 0.1143 - accuracy: 0.9632 - val_loss: 0.3891 - val_accuracy: 0.9156\n",
            "Epoch 3/5\n",
            "309/309 [==============================] - 350s 1s/step - loss: 0.1102 - accuracy: 0.9645 - val_loss: 0.4215 - val_accuracy: 0.9066\n",
            "Epoch 4/5\n",
            "309/309 [==============================] - 328s 1s/step - loss: 0.1050 - accuracy: 0.9659 - val_loss: 0.4055 - val_accuracy: 0.9089\n",
            "Epoch 5/5\n",
            "309/309 [==============================] - 328s 1s/step - loss: 0.0989 - accuracy: 0.9683 - val_loss: 0.3873 - val_accuracy: 0.9178\n"
          ]
        }
      ]
    },
    {
      "cell_type": "code",
      "source": [
        "import pickle\n",
        "\n",
        "with open('/content/drive/MyDrive/wail/training_history.pkl', 'rb') as file:\n",
        "    loaded_history = pickle.load(file)\n",
        "\n",
        "print(loaded_history)"
      ],
      "metadata": {
        "colab": {
          "base_uri": "https://localhost:8080/"
        },
        "id": "tSRdXIO2bzLj",
        "outputId": "5eb19bdf-53e0-4439-97a5-02865d74cbeb"
      },
      "execution_count": null,
      "outputs": [
        {
          "output_type": "stream",
          "name": "stdout",
          "text": [
            "{'loss': [1.6505473852157593, 0.7635735273361206, 0.4982798993587494, 0.3867187201976776, 0.31715822219848633, 0.26754873991012573, 0.23589393496513367, 0.21092934906482697, 0.18718303740024567, 0.18630218505859375, 0.15806373953819275, 0.15859454870224, 0.1464167982339859, 0.13750578463077545, 0.1248859390616417], 'accuracy': [0.4477490782737732, 0.7532550096511841, 0.8407307267189026, 0.8773310780525208, 0.8982111811637878, 0.9152372479438782, 0.9242130517959595, 0.9317688941955566, 0.9402756094932556, 0.9404657483100891, 0.9495810270309448, 0.9489217400550842, 0.9523954391479492, 0.9561480283737183, 0.9598245620727539], 'val_loss': [1.0395855903625488, 0.7491731643676758, 0.5973138213157654, 0.5203024744987488, 0.5224127769470215, 0.45051759481430054, 0.4338480234146118, 0.4233604669570923, 0.45253080129623413, 0.4455866515636444, 0.45719945430755615, 0.46442583203315735, 0.39686116576194763, 0.44436320662498474, 0.4072057604789734], 'val_accuracy': [0.6590254902839661, 0.7645970582962036, 0.8260690569877625, 0.8591694235801697, 0.8443667888641357, 0.8810649514198303, 0.8931949138641357, 0.8961759805679321, 0.8904194235801697, 0.8890830874443054, 0.8965871930122375, 0.8892886638641357, 0.9055304527282715, 0.8994654417037964, 0.8974095582962036]}\n"
          ]
        }
      ]
    },
    {
      "cell_type": "code",
      "source": [
        "import pickle\n",
        "\n",
        "\n",
        "with open('/content/drive/MyDrive/wail/training_history.pkl', 'wb') as file:\n",
        "    pickle.dump(combined_history, file)"
      ],
      "metadata": {
        "id": "VsQTDMLgg0iP"
      },
      "execution_count": null,
      "outputs": []
    },
    {
      "cell_type": "code",
      "source": [
        "combined_history = {}\n",
        "combined_history['accuracy'] = loaded_history['accuracy'] + history.history['accuracy']\n",
        "combined_history['val_accuracy'] = loaded_history['val_accuracy'] + history.history['val_accuracy']\n",
        "combined_history['loss'] = loaded_history['loss'] + history.history['loss']\n",
        "combined_history['val_loss'] = loaded_history['val_loss'] + history.history['val_loss']"
      ],
      "metadata": {
        "id": "fAhCMtvbY5Ik"
      },
      "execution_count": null,
      "outputs": []
    },
    {
      "cell_type": "code",
      "source": [],
      "metadata": {
        "id": "2LyekX4CbyRT"
      },
      "execution_count": null,
      "outputs": []
    },
    {
      "cell_type": "code",
      "source": [
        "model.save(\"/content/drive/MyDrive/wail/ep20.keras\")"
      ],
      "metadata": {
        "id": "ZNcCyIp5g2q2"
      },
      "execution_count": null,
      "outputs": []
    },
    {
      "cell_type": "code",
      "source": [
        "plt.figure(figsize=(12, 6))\n",
        "\n",
        "plt.subplot(1, 2, 1)\n",
        "plt.plot(combined_history['accuracy'])\n",
        "plt.plot(combined_history['val_accuracy'])\n",
        "plt.title('Combined Model accuracy')\n",
        "plt.xlabel('Epoch')\n",
        "plt.ylabel('Accuracy')\n",
        "plt.legend(['Train', 'Test'], loc='upper left')\n",
        "\n",
        "\n",
        "plt.subplot(1, 2, 2)\n",
        "plt.plot(combined_history['loss'])\n",
        "plt.plot(combined_history['val_loss'])\n",
        "plt.title('Combined Model loss')\n",
        "plt.xlabel('Epoch')\n",
        "plt.ylabel('Loss')\n",
        "plt.legend(['Train', 'Test'], loc='upper left')\n",
        "\n",
        "plt.tight_layout()\n",
        "plt.show()"
      ],
      "metadata": {
        "id": "MPzJUL_UpcO9",
        "colab": {
          "base_uri": "https://localhost:8080/",
          "height": 607
        },
        "outputId": "8fbb0b39-7f34-4c46-fc5a-f7b40e1862e3"
      },
      "execution_count": null,
      "outputs": [
        {
          "output_type": "display_data",
          "data": {
            "text/plain": [
              "<Figure size 1200x600 with 2 Axes>"
            ],
            "image/png": "[encoded data removed]"
          },
          "metadata": {}
        }
      ]
    },
    {
      "cell_type": "code",
      "source": [
        "import tensorflow as tf\n",
        "from tensorflow.keras.models import Sequential\n",
        "from tensorflow.keras.layers import Conv2D, MaxPooling2D, Flatten, Dense, Dropout\n",
        "\n",
        "def create_disease_model(num_diseases):\n",
        "    model = Sequential([\n",
        "        Conv2D(32, (3, 3), activation='relu', input_shape=(256, 256, 3)),\n",
        "        MaxPooling2D(2, 2),\n",
        "        Dropout(0.25),\n",
        "        Conv2D(64, (3, 3), activation='relu'),\n",
        "        MaxPooling2D(2, 2),\n",
        "        Dropout(0.25),\n",
        "        Conv2D(128, (3, 3), activation='relu'),\n",
        "        MaxPooling2D(2, 2),\n",
        "        Dropout(0.25),\n",
        "        Flatten(),\n",
        "        Dense(128, activation='relu'),\n",
        "        Dropout(0.25),\n",
        "        Dense(64, activation='relu'),\n",
        "        Dropout(0.25),\n",
        "        Dense(num_diseases, activation='softmax')\n",
        "    ])\n",
        "\n",
        "    model.compile(optimizer='adam', loss='categorical_crossentropy', metrics=['accuracy'])\n",
        "    return model"
      ],
      "metadata": {
        "id": "7fcBepOQg4AX"
      },
      "execution_count": null,
      "outputs": []
    },
    {
      "cell_type": "code",
      "source": [
        "def load_data_for_plant_type(plant):\n",
        "  batch_size = 256\n",
        "\n",
        "  train_datagen = ImageDataGenerator(rescale=1./255)\n",
        "  test_datagen = ImageDataGenerator(rescale=1./255)\n",
        "\n",
        "  train_generator = train_datagen.flow_from_directory(\n",
        "      os.path.join(data_path, \"train\",plant+\"\"),\n",
        "      target_size=img_size,\n",
        "      batch_size=batch_size,\n",
        "      class_mode='categorical',\n",
        "  )\n",
        "\n",
        "  test_generator = test_datagen.flow_from_directory(\n",
        "      os.path.join(data_path, \"PlantVal\"),\n",
        "      target_size=img_size,\n",
        "      batch_size=batch_size,\n",
        "      class_mode='categorical',\n",
        "  )"
      ],
      "metadata": {
        "id": "8r_0tsc3lMB6"
      },
      "execution_count": null,
      "outputs": []
    },
    {
      "cell_type": "code",
      "source": [
        "disease_models = {}\n",
        "for plant_type in plant_types:\n",
        "\n",
        "    train_data, val_data = load_data_for_plant_type(plant_type)\n",
        "    num_diseases = get_number_of_diseases_for_plant_type(plant_type)\n",
        "    disease_model = train_disease_model_for_plant_type(plant_type, train_data, val_data, num_diseases)\n",
        "    disease_models[plant_type] = disease_model\n"
      ],
      "metadata": {
        "id": "RuoWiEbiu0gz"
      },
      "execution_count": null,
      "outputs": []
    },
    {
      "cell_type": "code",
      "source": [
        "from tensorflow.keras.layers import Dense\n",
        "import tensorflow as tf\n",
        "from tensorflow.keras import layers, models"
      ],
      "metadata": {
        "id": "GDEn6lIBkPZy"
      },
      "execution_count": null,
      "outputs": []
    },
    {
      "cell_type": "code",
      "source": [
        "from tensorflow.keras.applications import ResNet50\n",
        "from tensorflow.keras.models import Model\n",
        "from tensorflow.keras.layers import GlobalAveragePooling2D\n",
        "from tensorflow.keras.callbacks import TensorBoard\n",
        "\n",
        "\n",
        "log_dir = os.path.join('Logs')\n",
        "tb_callback = TensorBoard(log_dir=log_dir)\n",
        "\n",
        "base_model = ResNet50(weights='imagenet', include_top=False, input_shape=(224, 224, 3))\n",
        "\n",
        "x = GlobalAveragePooling2D()(base_model.output)\n",
        "\n",
        "model = Model(inputs=base_model.input, outputs=x)\n"
      ],
      "metadata": {
        "id": "pD-W9BVYiEpi"
      },
      "execution_count": null,
      "outputs": []
    },
    {
      "cell_type": "code",
      "source": [
        "for layer in base_model.layers:\n",
        "    layer.trainable = False"
      ],
      "metadata": {
        "id": "I8SLxnVt6sE4"
      },
      "execution_count": null,
      "outputs": []
    },
    {
      "cell_type": "code",
      "source": [
        "\n",
        "\n",
        "num_classes = len(classes)\n",
        "\n",
        "x = Dense(256, activation='relu')(model.output)\n",
        "predictions = Dense(num_classes, activation='softmax')(x)\n",
        "\n",
        "model = Model(inputs=model.input, outputs=predictions)\n"
      ],
      "metadata": {
        "id": "PKdW_Ig_7BR5"
      },
      "execution_count": null,
      "outputs": []
    },
    {
      "cell_type": "code",
      "source": [
        "model.compile(optimizer='adam', loss='categorical_crossentropy', metrics=['accuracy'])"
      ],
      "metadata": {
        "id": "9WegxKmk7RUd"
      },
      "execution_count": null,
      "outputs": []
    },
    {
      "cell_type": "code",
      "source": [
        "model.summary()"
      ],
      "metadata": {
        "id": "0_-YQp1ki2-c",
        "colab": {
          "base_uri": "https://localhost:8080/"
        },
        "outputId": "fec3e342-035d-4da5-f7f5-517f2c01e6fa"
      },
      "execution_count": null,
      "outputs": [
        {
          "output_type": "stream",
          "name": "stdout",
          "text": [
            "Model: \"model_1\"\n",
            "__________________________________________________________________________________________________\n",
            " Layer (type)                Output Shape                 Param #   Connected to                  \n",
            "==================================================================================================\n",
            " input_1 (InputLayer)        [(None, 224, 224, 3)]        0         []                            \n",
            "                                                                                                  \n",
            " conv1_pad (ZeroPadding2D)   (None, 230, 230, 3)          0         ['input_1[0][0]']             \n",
            "                                                                                                  \n",
            " conv1_conv (Conv2D)         (None, 112, 112, 64)         9472      ['conv1_pad[0][0]']           \n",
            "                                                                                                  \n",
            " conv1_bn (BatchNormalizati  (None, 112, 112, 64)         256       ['conv1_conv[0][0]']          \n",
            " on)                                                                                              \n",
            "                                                                                                  \n",
            " conv1_relu (Activation)     (None, 112, 112, 64)         0         ['conv1_bn[0][0]']            \n",
            "                                                                                                  \n",
            " pool1_pad (ZeroPadding2D)   (None, 114, 114, 64)         0         ['conv1_relu[0][0]']          \n",
            "                                                                                                  \n",
            " pool1_pool (MaxPooling2D)   (None, 56, 56, 64)           0         ['pool1_pad[0][0]']           \n",
            "                                                                                                  \n",
            " conv2_block1_1_conv (Conv2  (None, 56, 56, 64)           4160      ['pool1_pool[0][0]']          \n",
            " D)                                                                                               \n",
            "                                                                                                  \n",
            " conv2_block1_1_bn (BatchNo  (None, 56, 56, 64)           256       ['conv2_block1_1_conv[0][0]'] \n",
            " rmalization)                                                                                     \n",
            "                                                                                                  \n",
            " conv2_block1_1_relu (Activ  (None, 56, 56, 64)           0         ['conv2_block1_1_bn[0][0]']   \n",
            " ation)                                                                                           \n",
            "                                                                                                  \n",
            " conv2_block1_2_conv (Conv2  (None, 56, 56, 64)           36928     ['conv2_block1_1_relu[0][0]'] \n",
            " D)                                                                                               \n",
            "                                                                                                  \n",
            " conv2_block1_2_bn (BatchNo  (None, 56, 56, 64)           256       ['conv2_block1_2_conv[0][0]'] \n",
            " rmalization)                                                                                     \n",
            "                                                                                                  \n",
            " conv2_block1_2_relu (Activ  (None, 56, 56, 64)           0         ['conv2_block1_2_bn[0][0]']   \n",
            " ation)                                                                                           \n",
            "                                                                                                  \n",
            " conv2_block1_0_conv (Conv2  (None, 56, 56, 256)          16640     ['pool1_pool[0][0]']          \n",
            " D)                                                                                               \n",
            "                                                                                                  \n",
            " conv2_block1_3_conv (Conv2  (None, 56, 56, 256)          16640     ['conv2_block1_2_relu[0][0]'] \n",
            " D)                                                                                               \n",
            "                                                                                                  \n",
            " conv2_block1_0_bn (BatchNo  (None, 56, 56, 256)          1024      ['conv2_block1_0_conv[0][0]'] \n",
            " rmalization)                                                                                     \n",
            "                                                                                                  \n",
            " conv2_block1_3_bn (BatchNo  (None, 56, 56, 256)          1024      ['conv2_block1_3_conv[0][0]'] \n",
            " rmalization)                                                                                     \n",
            "                                                                                                  \n",
            " conv2_block1_add (Add)      (None, 56, 56, 256)          0         ['conv2_block1_0_bn[0][0]',   \n",
            "                                                                     'conv2_block1_3_bn[0][0]']   \n",
            "                                                                                                  \n",
            " conv2_block1_out (Activati  (None, 56, 56, 256)          0         ['conv2_block1_add[0][0]']    \n",
            " on)                                                                                              \n",
            "                                                                                                  \n",
            " conv2_block2_1_conv (Conv2  (None, 56, 56, 64)           16448     ['conv2_block1_out[0][0]']    \n",
            " D)                                                                                               \n",
            "                                                                                                  \n",
            " conv2_block2_1_bn (BatchNo  (None, 56, 56, 64)           256       ['conv2_block2_1_conv[0][0]'] \n",
            " rmalization)                                                                                     \n",
            "                                                                                                  \n",
            " conv2_block2_1_relu (Activ  (None, 56, 56, 64)           0         ['conv2_block2_1_bn[0][0]']   \n",
            " ation)                                                                                           \n",
            "                                                                                                  \n",
            " conv2_block2_2_conv (Conv2  (None, 56, 56, 64)           36928     ['conv2_block2_1_relu[0][0]'] \n",
            " D)                                                                                               \n",
            "                                                                                                  \n",
            " conv2_block2_2_bn (BatchNo  (None, 56, 56, 64)           256       ['conv2_block2_2_conv[0][0]'] \n",
            " rmalization)                                                                                     \n",
            "                                                                                                  \n",
            " conv2_block2_2_relu (Activ  (None, 56, 56, 64)           0         ['conv2_block2_2_bn[0][0]']   \n",
            " ation)                                                                                           \n",
            "                                                                                                  \n",
            " conv2_block2_3_conv (Conv2  (None, 56, 56, 256)          16640     ['conv2_block2_2_relu[0][0]'] \n",
            " D)                                                                                               \n",
            "                                                                                                  \n",
            " conv2_block2_3_bn (BatchNo  (None, 56, 56, 256)          1024      ['conv2_block2_3_conv[0][0]'] \n",
            " rmalization)                                                                                     \n",
            "                                                                                                  \n",
            " conv2_block2_add (Add)      (None, 56, 56, 256)          0         ['conv2_block1_out[0][0]',    \n",
            "                                                                     'conv2_block2_3_bn[0][0]']   \n",
            "                                                                                                  \n",
            " conv2_block2_out (Activati  (None, 56, 56, 256)          0         ['conv2_block2_add[0][0]']    \n",
            " on)                                                                                              \n",
            "                                                                                                  \n",
            " conv2_block3_1_conv (Conv2  (None, 56, 56, 64)           16448     ['conv2_block2_out[0][0]']    \n",
            " D)                                                                                               \n",
            "                                                                                                  \n",
            " conv2_block3_1_bn (BatchNo  (None, 56, 56, 64)           256       ['conv2_block3_1_conv[0][0]'] \n",
            " rmalization)                                                                                     \n",
            "                                                                                                  \n",
            " conv2_block3_1_relu (Activ  (None, 56, 56, 64)           0         ['conv2_block3_1_bn[0][0]']   \n",
            " ation)                                                                                           \n",
            "                                                                                                  \n",
            " conv2_block3_2_conv (Conv2  (None, 56, 56, 64)           36928     ['conv2_block3_1_relu[0][0]'] \n",
            " D)                                                                                               \n",
            "                                                                                                  \n",
            " conv2_block3_2_bn (BatchNo  (None, 56, 56, 64)           256       ['conv2_block3_2_conv[0][0]'] \n",
            " rmalization)                                                                                     \n",
            "                                                                                                  \n",
            " conv2_block3_2_relu (Activ  (None, 56, 56, 64)           0         ['conv2_block3_2_bn[0][0]']   \n",
            " ation)                                                                                           \n",
            "                                                                                                  \n",
            " conv2_block3_3_conv (Conv2  (None, 56, 56, 256)          16640     ['conv2_block3_2_relu[0][0]'] \n",
            " D)                                                                                               \n",
            "                                                                                                  \n",
            " conv2_block3_3_bn (BatchNo  (None, 56, 56, 256)          1024      ['conv2_block3_3_conv[0][0]'] \n",
            " rmalization)                                                                                     \n",
            "                                                                                                  \n",
            " conv2_block3_add (Add)      (None, 56, 56, 256)          0         ['conv2_block2_out[0][0]',    \n",
            "                                                                     'conv2_block3_3_bn[0][0]']   \n",
            "                                                                                                  \n",
            " conv2_block3_out (Activati  (None, 56, 56, 256)          0         ['conv2_block3_add[0][0]']    \n",
            " on)                                                                                              \n",
            "                                                                                                  \n",
            " conv3_block1_1_conv (Conv2  (None, 28, 28, 128)          32896     ['conv2_block3_out[0][0]']    \n",
            " D)                                                                                               \n",
            "                                                                                                  \n",
            " conv3_block1_1_bn (BatchNo  (None, 28, 28, 128)          512       ['conv3_block1_1_conv[0][0]'] \n",
            " rmalization)                                                                                     \n",
            "                                                                                                  \n",
            " conv3_block1_1_relu (Activ  (None, 28, 28, 128)          0         ['conv3_block1_1_bn[0][0]']   \n",
            " ation)                                                                                           \n",
            "                                                                                                  \n",
            " conv3_block1_2_conv (Conv2  (None, 28, 28, 128)          147584    ['conv3_block1_1_relu[0][0]'] \n",
            " D)                                                                                               \n",
            "                                                                                                  \n",
            " conv3_block1_2_bn (BatchNo  (None, 28, 28, 128)          512       ['conv3_block1_2_conv[0][0]'] \n",
            " rmalization)                                                                                     \n",
            "                                                                                                  \n",
            " conv3_block1_2_relu (Activ  (None, 28, 28, 128)          0         ['conv3_block1_2_bn[0][0]']   \n",
            " ation)                                                                                           \n",
            "                                                                                                  \n",
            " conv3_block1_0_conv (Conv2  (None, 28, 28, 512)          131584    ['conv2_block3_out[0][0]']    \n",
            " D)                                                                                               \n",
            "                                                                                                  \n",
            " conv3_block1_3_conv (Conv2  (None, 28, 28, 512)          66048     ['conv3_block1_2_relu[0][0]'] \n",
            " D)                                                                                               \n",
            "                                                                                                  \n",
            " conv3_block1_0_bn (BatchNo  (None, 28, 28, 512)          2048      ['conv3_block1_0_conv[0][0]'] \n",
            " rmalization)                                                                                     \n",
            "                                                                                                  \n",
            " conv3_block1_3_bn (BatchNo  (None, 28, 28, 512)          2048      ['conv3_block1_3_conv[0][0]'] \n",
            " rmalization)                                                                                     \n",
            "                                                                                                  \n",
            " conv3_block1_add (Add)      (None, 28, 28, 512)          0         ['conv3_block1_0_bn[0][0]',   \n",
            "                                                                     'conv3_block1_3_bn[0][0]']   \n",
            "                                                                                                  \n",
            " conv3_block1_out (Activati  (None, 28, 28, 512)          0         ['conv3_block1_add[0][0]']    \n",
            " on)                                                                                              \n",
            "                                                                                                  \n",
            " conv3_block2_1_conv (Conv2  (None, 28, 28, 128)          65664     ['conv3_block1_out[0][0]']    \n",
            " D)                                                                                               \n",
            "                                                                                                  \n",
            " conv3_block2_1_bn (BatchNo  (None, 28, 28, 128)          512       ['conv3_block2_1_conv[0][0]'] \n",
            " rmalization)                                                                                     \n",
            "                                                                                                  \n",
            " conv3_block2_1_relu (Activ  (None, 28, 28, 128)          0         ['conv3_block2_1_bn[0][0]']   \n",
            " ation)                                                                                           \n",
            "                                                                                                  \n",
            " conv3_block2_2_conv (Conv2  (None, 28, 28, 128)          147584    ['conv3_block2_1_relu[0][0]'] \n",
            " D)                                                                                               \n",
            "                                                                                                  \n",
            " conv3_block2_2_bn (BatchNo  (None, 28, 28, 128)          512       ['conv3_block2_2_conv[0][0]'] \n",
            " rmalization)                                                                                     \n",
            "                                                                                                  \n",
            " conv3_block2_2_relu (Activ  (None, 28, 28, 128)          0         ['conv3_block2_2_bn[0][0]']   \n",
            " ation)                                                                                           \n",
            "                                                                                                  \n",
            " conv3_block2_3_conv (Conv2  (None, 28, 28, 512)          66048     ['conv3_block2_2_relu[0][0]'] \n",
            " D)                                                                                               \n",
            "                                                                                                  \n",
            " conv3_block2_3_bn (BatchNo  (None, 28, 28, 512)          2048      ['conv3_block2_3_conv[0][0]'] \n",
            " rmalization)                                                                                     \n",
            "                                                                                                  \n",
            " conv3_block2_add (Add)      (None, 28, 28, 512)          0         ['conv3_block1_out[0][0]',    \n",
            "                                                                     'conv3_block2_3_bn[0][0]']   \n",
            "                                                                                                  \n",
            " conv3_block2_out (Activati  (None, 28, 28, 512)          0         ['conv3_block2_add[0][0]']    \n",
            " on)                                                                                              \n",
            "                                                                                                  \n",
            " conv3_block3_1_conv (Conv2  (None, 28, 28, 128)          65664     ['conv3_block2_out[0][0]']    \n",
            " D)                                                                                               \n",
            "                                                                                                  \n",
            " conv3_block3_1_bn (BatchNo  (None, 28, 28, 128)          512       ['conv3_block3_1_conv[0][0]'] \n",
            " rmalization)                                                                                     \n",
            "                                                                                                  \n",
            " conv3_block3_1_relu (Activ  (None, 28, 28, 128)          0         ['conv3_block3_1_bn[0][0]']   \n",
            " ation)                                                                                           \n",
            "                                                                                                  \n",
            " conv3_block3_2_conv (Conv2  (None, 28, 28, 128)          147584    ['conv3_block3_1_relu[0][0]'] \n",
            " D)                                                                                               \n",
            "                                                                                                  \n",
            " conv3_block3_2_bn (BatchNo  (None, 28, 28, 128)          512       ['conv3_block3_2_conv[0][0]'] \n",
            " rmalization)                                                                                     \n",
            "                                                                                                  \n",
            " conv3_block3_2_relu (Activ  (None, 28, 28, 128)          0         ['conv3_block3_2_bn[0][0]']   \n",
            " ation)                                                                                           \n",
            "                                                                                                  \n",
            " conv3_block3_3_conv (Conv2  (None, 28, 28, 512)          66048     ['conv3_block3_2_relu[0][0]'] \n",
            " D)                                                                                               \n",
            "                                                                                                  \n",
            " conv3_block3_3_bn (BatchNo  (None, 28, 28, 512)          2048      ['conv3_block3_3_conv[0][0]'] \n",
            " rmalization)                                                                                     \n",
            "                                                                                                  \n",
            " conv3_block3_add (Add)      (None, 28, 28, 512)          0         ['conv3_block2_out[0][0]',    \n",
            "                                                                     'conv3_block3_3_bn[0][0]']   \n",
            "                                                                                                  \n",
            " conv3_block3_out (Activati  (None, 28, 28, 512)          0         ['conv3_block3_add[0][0]']    \n",
            " on)                                                                                              \n",
            "                                                                                                  \n",
            " conv3_block4_1_conv (Conv2  (None, 28, 28, 128)          65664     ['conv3_block3_out[0][0]']    \n",
            " D)                                                                                               \n",
            "                                                                                                  \n",
            " conv3_block4_1_bn (BatchNo  (None, 28, 28, 128)          512       ['conv3_block4_1_conv[0][0]'] \n",
            " rmalization)                                                                                     \n",
            "                                                                                                  \n",
            " conv3_block4_1_relu (Activ  (None, 28, 28, 128)          0         ['conv3_block4_1_bn[0][0]']   \n",
            " ation)                                                                                           \n",
            "                                                                                                  \n",
            " conv3_block4_2_conv (Conv2  (None, 28, 28, 128)          147584    ['conv3_block4_1_relu[0][0]'] \n",
            " D)                                                                                               \n",
            "                                                                                                  \n",
            " conv3_block4_2_bn (BatchNo  (None, 28, 28, 128)          512       ['conv3_block4_2_conv[0][0]'] \n",
            " rmalization)                                                                                     \n",
            "                                                                                                  \n",
            " conv3_block4_2_relu (Activ  (None, 28, 28, 128)          0         ['conv3_block4_2_bn[0][0]']   \n",
            " ation)                                                                                           \n",
            "                                                                                                  \n",
            " conv3_block4_3_conv (Conv2  (None, 28, 28, 512)          66048     ['conv3_block4_2_relu[0][0]'] \n",
            " D)                                                                                               \n",
            "                                                                                                  \n",
            " conv3_block4_3_bn (BatchNo  (None, 28, 28, 512)          2048      ['conv3_block4_3_conv[0][0]'] \n",
            " rmalization)                                                                                     \n",
            "                                                                                                  \n",
            " conv3_block4_add (Add)      (None, 28, 28, 512)          0         ['conv3_block3_out[0][0]',    \n",
            "                                                                     'conv3_block4_3_bn[0][0]']   \n",
            "                                                                                                  \n",
            " conv3_block4_out (Activati  (None, 28, 28, 512)          0         ['conv3_block4_add[0][0]']    \n",
            " on)                                                                                              \n",
            "                                                                                                  \n",
            " conv4_block1_1_conv (Conv2  (None, 14, 14, 256)          131328    ['conv3_block4_out[0][0]']    \n",
            " D)                                                                                               \n",
            "                                                                                                  \n",
            " conv4_block1_1_bn (BatchNo  (None, 14, 14, 256)          1024      ['conv4_block1_1_conv[0][0]'] \n",
            " rmalization)                                                                                     \n",
            "                                                                                                  \n",
            " conv4_block1_1_relu (Activ  (None, 14, 14, 256)          0         ['conv4_block1_1_bn[0][0]']   \n",
            " ation)                                                                                           \n",
            "                                                                                                  \n",
            " conv4_block1_2_conv (Conv2  (None, 14, 14, 256)          590080    ['conv4_block1_1_relu[0][0]'] \n",
            " D)                                                                                               \n",
            "                                                                                                  \n",
            " conv4_block1_2_bn (BatchNo  (None, 14, 14, 256)          1024      ['conv4_block1_2_conv[0][0]'] \n",
            " rmalization)                                                                                     \n",
            "                                                                                                  \n",
            " conv4_block1_2_relu (Activ  (None, 14, 14, 256)          0         ['conv4_block1_2_bn[0][0]']   \n",
            " ation)                                                                                           \n",
            "                                                                                                  \n",
            " conv4_block1_0_conv (Conv2  (None, 14, 14, 1024)         525312    ['conv3_block4_out[0][0]']    \n",
            " D)                                                                                               \n",
            "                                                                                                  \n",
            " conv4_block1_3_conv (Conv2  (None, 14, 14, 1024)         263168    ['conv4_block1_2_relu[0][0]'] \n",
            " D)                                                                                               \n",
            "                                                                                                  \n",
            " conv4_block1_0_bn (BatchNo  (None, 14, 14, 1024)         4096      ['conv4_block1_0_conv[0][0]'] \n",
            " rmalization)                                                                                     \n",
            "                                                                                                  \n",
            " conv4_block1_3_bn (BatchNo  (None, 14, 14, 1024)         4096      ['conv4_block1_3_conv[0][0]'] \n",
            " rmalization)                                                                                     \n",
            "                                                                                                  \n",
            " conv4_block1_add (Add)      (None, 14, 14, 1024)         0         ['conv4_block1_0_bn[0][0]',   \n",
            "                                                                     'conv4_block1_3_bn[0][0]']   \n",
            "                                                                                                  \n",
            " conv4_block1_out (Activati  (None, 14, 14, 1024)         0         ['conv4_block1_add[0][0]']    \n",
            " on)                                                                                              \n",
            "                                                                                                  \n",
            " conv4_block2_1_conv (Conv2  (None, 14, 14, 256)          262400    ['conv4_block1_out[0][0]']    \n",
            " D)                                                                                               \n",
            "                                                                                                  \n",
            " conv4_block2_1_bn (BatchNo  (None, 14, 14, 256)          1024      ['conv4_block2_1_conv[0][0]'] \n",
            " rmalization)                                                                                     \n",
            "                                                                                                  \n",
            " conv4_block2_1_relu (Activ  (None, 14, 14, 256)          0         ['conv4_block2_1_bn[0][0]']   \n",
            " ation)                                                                                           \n",
            "                                                                                                  \n",
            " conv4_block2_2_conv (Conv2  (None, 14, 14, 256)          590080    ['conv4_block2_1_relu[0][0]'] \n",
            " D)                                                                                               \n",
            "                                                                                                  \n",
            " conv4_block2_2_bn (BatchNo  (None, 14, 14, 256)          1024      ['conv4_block2_2_conv[0][0]'] \n",
            " rmalization)                                                                                     \n",
            "                                                                                                  \n",
            " conv4_block2_2_relu (Activ  (None, 14, 14, 256)          0         ['conv4_block2_2_bn[0][0]']   \n",
            " ation)                                                                                           \n",
            "                                                                                                  \n",
            " conv4_block2_3_conv (Conv2  (None, 14, 14, 1024)         263168    ['conv4_block2_2_relu[0][0]'] \n",
            " D)                                                                                               \n",
            "                                                                                                  \n",
            " conv4_block2_3_bn (BatchNo  (None, 14, 14, 1024)         4096      ['conv4_block2_3_conv[0][0]'] \n",
            " rmalization)                                                                                     \n",
            "                                                                                                  \n",
            " conv4_block2_add (Add)      (None, 14, 14, 1024)         0         ['conv4_block1_out[0][0]',    \n",
            "                                                                     'conv4_block2_3_bn[0][0]']   \n",
            "                                                                                                  \n",
            " conv4_block2_out (Activati  (None, 14, 14, 1024)         0         ['conv4_block2_add[0][0]']    \n",
            " on)                                                                                              \n",
            "                                                                                                  \n",
            " conv4_block3_1_conv (Conv2  (None, 14, 14, 256)          262400    ['conv4_block2_out[0][0]']    \n",
            " D)                                                                                               \n",
            "                                                                                                  \n",
            " conv4_block3_1_bn (BatchNo  (None, 14, 14, 256)          1024      ['conv4_block3_1_conv[0][0]'] \n",
            " rmalization)                                                                                     \n",
            "                                                                                                  \n",
            " conv4_block3_1_relu (Activ  (None, 14, 14, 256)          0         ['conv4_block3_1_bn[0][0]']   \n",
            " ation)                                                                                           \n",
            "                                                                                                  \n",
            " conv4_block3_2_conv (Conv2  (None, 14, 14, 256)          590080    ['conv4_block3_1_relu[0][0]'] \n",
            " D)                                                                                               \n",
            "                                                                                                  \n",
            " conv4_block3_2_bn (BatchNo  (None, 14, 14, 256)          1024      ['conv4_block3_2_conv[0][0]'] \n",
            " rmalization)                                                                                     \n",
            "                                                                                                  \n",
            " conv4_block3_2_relu (Activ  (None, 14, 14, 256)          0         ['conv4_block3_2_bn[0][0]']   \n",
            " ation)                                                                                           \n",
            "                                                                                                  \n",
            " conv4_block3_3_conv (Conv2  (None, 14, 14, 1024)         263168    ['conv4_block3_2_relu[0][0]'] \n",
            " D)                                                                                               \n",
            "                                                                                                  \n",
            " conv4_block3_3_bn (BatchNo  (None, 14, 14, 1024)         4096      ['conv4_block3_3_conv[0][0]'] \n",
            " rmalization)                                                                                     \n",
            "                                                                                                  \n",
            " conv4_block3_add (Add)      (None, 14, 14, 1024)         0         ['conv4_block2_out[0][0]',    \n",
            "                                                                     'conv4_block3_3_bn[0][0]']   \n",
            "                                                                                                  \n",
            " conv4_block3_out (Activati  (None, 14, 14, 1024)         0         ['conv4_block3_add[0][0]']    \n",
            " on)                                                                                              \n",
            "                                                                                                  \n",
            " conv4_block4_1_conv (Conv2  (None, 14, 14, 256)          262400    ['conv4_block3_out[0][0]']    \n",
            " D)                                                                                               \n",
            "                                                                                                  \n",
            " conv4_block4_1_bn (BatchNo  (None, 14, 14, 256)          1024      ['conv4_block4_1_conv[0][0]'] \n",
            " rmalization)                                                                                     \n",
            "                                                                                                  \n",
            " conv4_block4_1_relu (Activ  (None, 14, 14, 256)          0         ['conv4_block4_1_bn[0][0]']   \n",
            " ation)                                                                                           \n",
            "                                                                                                  \n",
            " conv4_block4_2_conv (Conv2  (None, 14, 14, 256)          590080    ['conv4_block4_1_relu[0][0]'] \n",
            " D)                                                                                               \n",
            "                                                                                                  \n",
            " conv4_block4_2_bn (BatchNo  (None, 14, 14, 256)          1024      ['conv4_block4_2_conv[0][0]'] \n",
            " rmalization)                                                                                     \n",
            "                                                                                                  \n",
            " conv4_block4_2_relu (Activ  (None, 14, 14, 256)          0         ['conv4_block4_2_bn[0][0]']   \n",
            " ation)                                                                                           \n",
            "                                                                                                  \n",
            " conv4_block4_3_conv (Conv2  (None, 14, 14, 1024)         263168    ['conv4_block4_2_relu[0][0]'] \n",
            " D)                                                                                               \n",
            "                                                                                                  \n",
            " conv4_block4_3_bn (BatchNo  (None, 14, 14, 1024)         4096      ['conv4_block4_3_conv[0][0]'] \n",
            " rmalization)                                                                                     \n",
            "                                                                                                  \n",
            " conv4_block4_add (Add)      (None, 14, 14, 1024)         0         ['conv4_block3_out[0][0]',    \n",
            "                                                                     'conv4_block4_3_bn[0][0]']   \n",
            "                                                                                                  \n",
            " conv4_block4_out (Activati  (None, 14, 14, 1024)         0         ['conv4_block4_add[0][0]']    \n",
            " on)                                                                                              \n",
            "                                                                                                  \n",
            " conv4_block5_1_conv (Conv2  (None, 14, 14, 256)          262400    ['conv4_block4_out[0][0]']    \n",
            " D)                                                                                               \n",
            "                                                                                                  \n",
            " conv4_block5_1_bn (BatchNo  (None, 14, 14, 256)          1024      ['conv4_block5_1_conv[0][0]'] \n",
            " rmalization)                                                                                     \n",
            "                                                                                                  \n",
            " conv4_block5_1_relu (Activ  (None, 14, 14, 256)          0         ['conv4_block5_1_bn[0][0]']   \n",
            " ation)                                                                                           \n",
            "                                                                                                  \n",
            " conv4_block5_2_conv (Conv2  (None, 14, 14, 256)          590080    ['conv4_block5_1_relu[0][0]'] \n",
            " D)                                                                                               \n",
            "                                                                                                  \n",
            " conv4_block5_2_bn (BatchNo  (None, 14, 14, 256)          1024      ['conv4_block5_2_conv[0][0]'] \n",
            " rmalization)                                                                                     \n",
            "                                                                                                  \n",
            " conv4_block5_2_relu (Activ  (None, 14, 14, 256)          0         ['conv4_block5_2_bn[0][0]']   \n",
            " ation)                                                                                           \n",
            "                                                                                                  \n",
            " conv4_block5_3_conv (Conv2  (None, 14, 14, 1024)         263168    ['conv4_block5_2_relu[0][0]'] \n",
            " D)                                                                                               \n",
            "                                                                                                  \n",
            " conv4_block5_3_bn (BatchNo  (None, 14, 14, 1024)         4096      ['conv4_block5_3_conv[0][0]'] \n",
            " rmalization)                                                                                     \n",
            "                                                                                                  \n",
            " conv4_block5_add (Add)      (None, 14, 14, 1024)         0         ['conv4_block4_out[0][0]',    \n",
            "                                                                     'conv4_block5_3_bn[0][0]']   \n",
            "                                                                                                  \n",
            " conv4_block5_out (Activati  (None, 14, 14, 1024)         0         ['conv4_block5_add[0][0]']    \n",
            " on)                                                                                              \n",
            "                                                                                                  \n",
            " conv4_block6_1_conv (Conv2  (None, 14, 14, 256)          262400    ['conv4_block5_out[0][0]']    \n",
            " D)                                                                                               \n",
            "                                                                                                  \n",
            " conv4_block6_1_bn (BatchNo  (None, 14, 14, 256)          1024      ['conv4_block6_1_conv[0][0]'] \n",
            " rmalization)                                                                                     \n",
            "                                                                                                  \n",
            " conv4_block6_1_relu (Activ  (None, 14, 14, 256)          0         ['conv4_block6_1_bn[0][0]']   \n",
            " ation)                                                                                           \n",
            "                                                                                                  \n",
            " conv4_block6_2_conv (Conv2  (None, 14, 14, 256)          590080    ['conv4_block6_1_relu[0][0]'] \n",
            " D)                                                                                               \n",
            "                                                                                                  \n",
            " conv4_block6_2_bn (BatchNo  (None, 14, 14, 256)          1024      ['conv4_block6_2_conv[0][0]'] \n",
            " rmalization)                                                                                     \n",
            "                                                                                                  \n",
            " conv4_block6_2_relu (Activ  (None, 14, 14, 256)          0         ['conv4_block6_2_bn[0][0]']   \n",
            " ation)                                                                                           \n",
            "                                                                                                  \n",
            " conv4_block6_3_conv (Conv2  (None, 14, 14, 1024)         263168    ['conv4_block6_2_relu[0][0]'] \n",
            " D)                                                                                               \n",
            "                                                                                                  \n",
            " conv4_block6_3_bn (BatchNo  (None, 14, 14, 1024)         4096      ['conv4_block6_3_conv[0][0]'] \n",
            " rmalization)                                                                                     \n",
            "                                                                                                  \n",
            " conv4_block6_add (Add)      (None, 14, 14, 1024)         0         ['conv4_block5_out[0][0]',    \n",
            "                                                                     'conv4_block6_3_bn[0][0]']   \n",
            "                                                                                                  \n",
            " conv4_block6_out (Activati  (None, 14, 14, 1024)         0         ['conv4_block6_add[0][0]']    \n",
            " on)                                                                                              \n",
            "                                                                                                  \n",
            " conv5_block1_1_conv (Conv2  (None, 7, 7, 512)            524800    ['conv4_block6_out[0][0]']    \n",
            " D)                                                                                               \n",
            "                                                                                                  \n",
            " conv5_block1_1_bn (BatchNo  (None, 7, 7, 512)            2048      ['conv5_block1_1_conv[0][0]'] \n",
            " rmalization)                                                                                     \n",
            "                                                                                                  \n",
            " conv5_block1_1_relu (Activ  (None, 7, 7, 512)            0         ['conv5_block1_1_bn[0][0]']   \n",
            " ation)                                                                                           \n",
            "                                                                                                  \n",
            " conv5_block1_2_conv (Conv2  (None, 7, 7, 512)            2359808   ['conv5_block1_1_relu[0][0]'] \n",
            " D)                                                                                               \n",
            "                                                                                                  \n",
            " conv5_block1_2_bn (BatchNo  (None, 7, 7, 512)            2048      ['conv5_block1_2_conv[0][0]'] \n",
            " rmalization)                                                                                     \n",
            "                                                                                                  \n",
            " conv5_block1_2_relu (Activ  (None, 7, 7, 512)            0         ['conv5_block1_2_bn[0][0]']   \n",
            " ation)                                                                                           \n",
            "                                                                                                  \n",
            " conv5_block1_0_conv (Conv2  (None, 7, 7, 2048)           2099200   ['conv4_block6_out[0][0]']    \n",
            " D)                                                                                               \n",
            "                                                                                                  \n",
            " conv5_block1_3_conv (Conv2  (None, 7, 7, 2048)           1050624   ['conv5_block1_2_relu[0][0]'] \n",
            " D)                                                                                               \n",
            "                                                                                                  \n",
            " conv5_block1_0_bn (BatchNo  (None, 7, 7, 2048)           8192      ['conv5_block1_0_conv[0][0]'] \n",
            " rmalization)                                                                                     \n",
            "                                                                                                  \n",
            " conv5_block1_3_bn (BatchNo  (None, 7, 7, 2048)           8192      ['conv5_block1_3_conv[0][0]'] \n",
            " rmalization)                                                                                     \n",
            "                                                                                                  \n",
            " conv5_block1_add (Add)      (None, 7, 7, 2048)           0         ['conv5_block1_0_bn[0][0]',   \n",
            "                                                                     'conv5_block1_3_bn[0][0]']   \n",
            "                                                                                                  \n",
            " conv5_block1_out (Activati  (None, 7, 7, 2048)           0         ['conv5_block1_add[0][0]']    \n",
            " on)                                                                                              \n",
            "                                                                                                  \n",
            " conv5_block2_1_conv (Conv2  (None, 7, 7, 512)            1049088   ['conv5_block1_out[0][0]']    \n",
            " D)                                                                                               \n",
            "                                                                                                  \n",
            " conv5_block2_1_bn (BatchNo  (None, 7, 7, 512)            2048      ['conv5_block2_1_conv[0][0]'] \n",
            " rmalization)                                                                                     \n",
            "                                                                                                  \n",
            " conv5_block2_1_relu (Activ  (None, 7, 7, 512)            0         ['conv5_block2_1_bn[0][0]']   \n",
            " ation)                                                                                           \n",
            "                                                                                                  \n",
            " conv5_block2_2_conv (Conv2  (None, 7, 7, 512)            2359808   ['conv5_block2_1_relu[0][0]'] \n",
            " D)                                                                                               \n",
            "                                                                                                  \n",
            " conv5_block2_2_bn (BatchNo  (None, 7, 7, 512)            2048      ['conv5_block2_2_conv[0][0]'] \n",
            " rmalization)                                                                                     \n",
            "                                                                                                  \n",
            " conv5_block2_2_relu (Activ  (None, 7, 7, 512)            0         ['conv5_block2_2_bn[0][0]']   \n",
            " ation)                                                                                           \n",
            "                                                                                                  \n",
            " conv5_block2_3_conv (Conv2  (None, 7, 7, 2048)           1050624   ['conv5_block2_2_relu[0][0]'] \n",
            " D)                                                                                               \n",
            "                                                                                                  \n",
            " conv5_block2_3_bn (BatchNo  (None, 7, 7, 2048)           8192      ['conv5_block2_3_conv[0][0]'] \n",
            " rmalization)                                                                                     \n",
            "                                                                                                  \n",
            " conv5_block2_add (Add)      (None, 7, 7, 2048)           0         ['conv5_block1_out[0][0]',    \n",
            "                                                                     'conv5_block2_3_bn[0][0]']   \n",
            "                                                                                                  \n",
            " conv5_block2_out (Activati  (None, 7, 7, 2048)           0         ['conv5_block2_add[0][0]']    \n",
            " on)                                                                                              \n",
            "                                                                                                  \n",
            " conv5_block3_1_conv (Conv2  (None, 7, 7, 512)            1049088   ['conv5_block2_out[0][0]']    \n",
            " D)                                                                                               \n",
            "                                                                                                  \n",
            " conv5_block3_1_bn (BatchNo  (None, 7, 7, 512)            2048      ['conv5_block3_1_conv[0][0]'] \n",
            " rmalization)                                                                                     \n",
            "                                                                                                  \n",
            " conv5_block3_1_relu (Activ  (None, 7, 7, 512)            0         ['conv5_block3_1_bn[0][0]']   \n",
            " ation)                                                                                           \n",
            "                                                                                                  \n",
            " conv5_block3_2_conv (Conv2  (None, 7, 7, 512)            2359808   ['conv5_block3_1_relu[0][0]'] \n",
            " D)                                                                                               \n",
            "                                                                                                  \n",
            " conv5_block3_2_bn (BatchNo  (None, 7, 7, 512)            2048      ['conv5_block3_2_conv[0][0]'] \n",
            " rmalization)                                                                                     \n",
            "                                                                                                  \n",
            " conv5_block3_2_relu (Activ  (None, 7, 7, 512)            0         ['conv5_block3_2_bn[0][0]']   \n",
            " ation)                                                                                           \n",
            "                                                                                                  \n",
            " conv5_block3_3_conv (Conv2  (None, 7, 7, 2048)           1050624   ['conv5_block3_2_relu[0][0]'] \n",
            " D)                                                                                               \n",
            "                                                                                                  \n",
            " conv5_block3_3_bn (BatchNo  (None, 7, 7, 2048)           8192      ['conv5_block3_3_conv[0][0]'] \n",
            " rmalization)                                                                                     \n",
            "                                                                                                  \n",
            " conv5_block3_add (Add)      (None, 7, 7, 2048)           0         ['conv5_block2_out[0][0]',    \n",
            "                                                                     'conv5_block3_3_bn[0][0]']   \n",
            "                                                                                                  \n",
            " conv5_block3_out (Activati  (None, 7, 7, 2048)           0         ['conv5_block3_add[0][0]']    \n",
            " on)                                                                                              \n",
            "                                                                                                  \n",
            " global_average_pooling2d (  (None, 2048)                 0         ['conv5_block3_out[0][0]']    \n",
            " GlobalAveragePooling2D)                                                                          \n",
            "                                                                                                  \n",
            " dense (Dense)               (None, 256)                  524544    ['global_average_pooling2d[0][\n",
            "                                                                    0]']                          \n",
            "                                                                                                  \n",
            " dense_1 (Dense)             (None, 39)                   10023     ['dense[0][0]']               \n",
            "                                                                                                  \n",
            "==================================================================================================\n",
            "Total params: 24122279 (92.02 MB)\n",
            "Trainable params: 534567 (2.04 MB)\n",
            "Non-trainable params: 23587712 (89.98 MB)\n",
            "__________________________________________________________________________________________________\n"
          ]
        }
      ]
    },
    {
      "cell_type": "code",
      "source": [
        "loaded_model.fit(\n",
        "    train_generator,\n",
        "    steps_per_epoch=train_generator.samples // batch_size,\n",
        "    epochs=20,\n",
        "    validation_data=test_generator,\n",
        "    validation_steps=test_generator.samples // batch_size,\n",
        "    callbacks=[tb_callback]\n",
        ")"
      ],
      "metadata": {
        "id": "Ujg-JVvdjxKa",
        "colab": {
          "base_uri": "https://localhost:8080/"
        },
        "outputId": "76e922f8-25d8-4540-eb7e-e6e4707de9a9"
      },
      "execution_count": null,
      "outputs": [
        {
          "output_type": "stream",
          "name": "stdout",
          "text": [
            "Epoch 1/20\n",
            "42/42 [==============================] - 195s 5s/step - loss: 0.5355 - accuracy: 0.8337 - val_loss: 0.6812 - val_accuracy: 0.7927\n",
            "Epoch 2/20\n",
            "42/42 [==============================] - 192s 5s/step - loss: 0.5352 - accuracy: 0.8339 - val_loss: 0.6885 - val_accuracy: 0.7893\n",
            "Epoch 3/20\n",
            "42/42 [==============================] - 188s 4s/step - loss: 0.5434 - accuracy: 0.8316 - val_loss: 0.6743 - val_accuracy: 0.7937\n",
            "Epoch 4/20\n",
            "42/42 [==============================] - 191s 5s/step - loss: 0.5380 - accuracy: 0.8322 - val_loss: 0.6806 - val_accuracy: 0.7896\n",
            "Epoch 5/20\n",
            "42/42 [==============================] - 191s 5s/step - loss: 0.5344 - accuracy: 0.8340 - val_loss: 0.6759 - val_accuracy: 0.7933\n",
            "Epoch 6/20\n",
            "42/42 [==============================] - 188s 4s/step - loss: 0.5377 - accuracy: 0.8325 - val_loss: 0.6981 - val_accuracy: 0.7810\n",
            "Epoch 7/20\n",
            "42/42 [==============================] - 192s 5s/step - loss: 0.5428 - accuracy: 0.8306 - val_loss: 0.6994 - val_accuracy: 0.7850\n",
            "Epoch 8/20\n",
            "42/42 [==============================] - 190s 5s/step - loss: 0.5374 - accuracy: 0.8324 - val_loss: 0.6818 - val_accuracy: 0.7902\n",
            "Epoch 9/20\n",
            "42/42 [==============================] - 188s 4s/step - loss: 0.5358 - accuracy: 0.8331 - val_loss: 0.6789 - val_accuracy: 0.7895\n",
            "Epoch 10/20\n",
            "42/42 [==============================] - 190s 5s/step - loss: 0.5334 - accuracy: 0.8346 - val_loss: 0.6806 - val_accuracy: 0.7905\n",
            "Epoch 11/20\n",
            "42/42 [==============================] - 188s 4s/step - loss: 0.5384 - accuracy: 0.8327 - val_loss: 0.6801 - val_accuracy: 0.7872\n",
            "Epoch 12/20\n",
            "42/42 [==============================] - 191s 5s/step - loss: 0.5345 - accuracy: 0.8335 - val_loss: 0.6762 - val_accuracy: 0.7908\n",
            "Epoch 13/20\n",
            "42/42 [==============================] - 187s 4s/step - loss: 0.5363 - accuracy: 0.8332 - val_loss: 0.6794 - val_accuracy: 0.7912\n",
            "Epoch 14/20\n",
            "42/42 [==============================] - 187s 4s/step - loss: 0.5350 - accuracy: 0.8331 - val_loss: 0.6809 - val_accuracy: 0.7886\n",
            "Epoch 15/20\n",
            "42/42 [==============================] - 190s 4s/step - loss: 0.5386 - accuracy: 0.8337 - val_loss: 0.6837 - val_accuracy: 0.7905\n",
            "Epoch 16/20\n",
            "42/42 [==============================] - 190s 5s/step - loss: 0.5343 - accuracy: 0.8339 - val_loss: 0.6724 - val_accuracy: 0.7932\n",
            "Epoch 17/20\n",
            "42/42 [==============================] - 191s 5s/step - loss: 0.5295 - accuracy: 0.8357 - val_loss: 0.6909 - val_accuracy: 0.7864\n",
            "Epoch 18/20\n",
            "42/42 [==============================] - 191s 5s/step - loss: 0.5358 - accuracy: 0.8333 - val_loss: 0.6718 - val_accuracy: 0.7918\n",
            "Epoch 19/20\n",
            "42/42 [==============================] - 191s 5s/step - loss: 0.5297 - accuracy: 0.8350 - val_loss: 0.6705 - val_accuracy: 0.7943\n",
            "Epoch 20/20\n",
            "42/42 [==============================] - 191s 5s/step - loss: 0.5346 - accuracy: 0.8339 - val_loss: 0.6957 - val_accuracy: 0.7859\n"
          ]
        },
        {
          "output_type": "execute_result",
          "data": {
            "text/plain": [
              "<keras.src.callbacks.History at 0x7d6bc83e0070>"
            ]
          },
          "metadata": {},
          "execution_count": 21
        }
      ]
    },
    {
      "cell_type": "code",
      "source": [
        "model.save(\"/content/drive/MyDrive/wail/PDResnet50-ep230.kera\")"
      ],
      "metadata": {
        "id": "ndMG3dYp-de9"
      },
      "execution_count": null,
      "outputs": []
    },
    {
      "cell_type": "code",
      "source": [
        "from google.colab import drive\n",
        "drive.mount('/content/drive')\n",
        "\n",
        "# Save model to Google Drive\n",
        "loaded_model.save('/content/drive/MyDrive/wail/PDResnet50-ep230.keras')\n"
      ],
      "metadata": {
        "id": "JKCSI5bBTOts",
        "colab": {
          "base_uri": "https://localhost:8080/"
        },
        "outputId": "80b3b458-7fc5-49b7-92c2-f8dd94e32dab"
      },
      "execution_count": null,
      "outputs": [
        {
          "output_type": "stream",
          "name": "stdout",
          "text": [
            "Drive already mounted at /content/drive; to attempt to forcibly remount, call drive.mount(\"/content/drive\", force_remount=True).\n"
          ]
        }
      ]
    },
    {
      "cell_type": "code",
      "source": [
        "loaded_model = tf.keras.models.load_model('/content/drive/MyDrive/wail/ep20.keras')"
      ],
      "metadata": {
        "id": "xw_Lu-z0TPB1",
        "colab": {
          "base_uri": "https://localhost:8080/",
          "height": 321
        },
        "outputId": "ed51de2a-c262-4f08-84cb-622aacf4b47e"
      },
      "execution_count": null,
      "outputs": [
        {
          "output_type": "error",
          "ename": "OSError",
          "evalue": "ignored",
          "traceback": [
            "\u001b[0;31m---------------------------------------------------------------------------\u001b[0m",
            "\u001b[0;31mOSError\u001b[0m                                   Traceback (most recent call last)",
            "\u001b[0;32m<ipython-input-11-fffe3df43135>\u001b[0m in \u001b[0;36m<cell line: 1>\u001b[0;34m()\u001b[0m\n\u001b[0;32m----> 1\u001b[0;31m \u001b[0mloaded_model\u001b[0m \u001b[0;34m=\u001b[0m \u001b[0mtf\u001b[0m\u001b[0;34m.\u001b[0m\u001b[0mkeras\u001b[0m\u001b[0;34m.\u001b[0m\u001b[0mmodels\u001b[0m\u001b[0;34m.\u001b[0m\u001b[0mload_model\u001b[0m\u001b[0;34m(\u001b[0m\u001b[0;34m'/content/drive/MyDrive/wail/ep20.keras'\u001b[0m\u001b[0;34m)\u001b[0m\u001b[0;34m\u001b[0m\u001b[0;34m\u001b[0m\u001b[0m\n\u001b[0m",
            "\u001b[0;32m/usr/local/lib/python3.10/dist-packages/keras/src/saving/saving_api.py\u001b[0m in \u001b[0;36mload_model\u001b[0;34m(filepath, custom_objects, compile, safe_mode, **kwargs)\u001b[0m\n\u001b[1;32m    260\u001b[0m \u001b[0;34m\u001b[0m\u001b[0m\n\u001b[1;32m    261\u001b[0m     \u001b[0;31m# Legacy case.\u001b[0m\u001b[0;34m\u001b[0m\u001b[0;34m\u001b[0m\u001b[0m\n\u001b[0;32m--> 262\u001b[0;31m     return legacy_sm_saving_lib.load_model(\n\u001b[0m\u001b[1;32m    263\u001b[0m         \u001b[0mfilepath\u001b[0m\u001b[0;34m,\u001b[0m \u001b[0mcustom_objects\u001b[0m\u001b[0;34m=\u001b[0m\u001b[0mcustom_objects\u001b[0m\u001b[0;34m,\u001b[0m \u001b[0mcompile\u001b[0m\u001b[0;34m=\u001b[0m\u001b[0mcompile\u001b[0m\u001b[0;34m,\u001b[0m \u001b[0;34m**\u001b[0m\u001b[0mkwargs\u001b[0m\u001b[0;34m\u001b[0m\u001b[0;34m\u001b[0m\u001b[0m\n\u001b[1;32m    264\u001b[0m     )\n",
            "\u001b[0;32m/usr/local/lib/python3.10/dist-packages/keras/src/utils/traceback_utils.py\u001b[0m in \u001b[0;36merror_handler\u001b[0;34m(*args, **kwargs)\u001b[0m\n\u001b[1;32m     68\u001b[0m             \u001b[0;31m# To get the full stack trace, call:\u001b[0m\u001b[0;34m\u001b[0m\u001b[0;34m\u001b[0m\u001b[0m\n\u001b[1;32m     69\u001b[0m             \u001b[0;31m# `tf.debugging.disable_traceback_filtering()`\u001b[0m\u001b[0;34m\u001b[0m\u001b[0;34m\u001b[0m\u001b[0m\n\u001b[0;32m---> 70\u001b[0;31m             \u001b[0;32mraise\u001b[0m \u001b[0me\u001b[0m\u001b[0;34m.\u001b[0m\u001b[0mwith_traceback\u001b[0m\u001b[0;34m(\u001b[0m\u001b[0mfiltered_tb\u001b[0m\u001b[0;34m)\u001b[0m \u001b[0;32mfrom\u001b[0m \u001b[0;32mNone\u001b[0m\u001b[0;34m\u001b[0m\u001b[0;34m\u001b[0m\u001b[0m\n\u001b[0m\u001b[1;32m     71\u001b[0m         \u001b[0;32mfinally\u001b[0m\u001b[0;34m:\u001b[0m\u001b[0;34m\u001b[0m\u001b[0;34m\u001b[0m\u001b[0m\n\u001b[1;32m     72\u001b[0m             \u001b[0;32mdel\u001b[0m \u001b[0mfiltered_tb\u001b[0m\u001b[0;34m\u001b[0m\u001b[0;34m\u001b[0m\u001b[0m\n",
            "\u001b[0;32m/usr/local/lib/python3.10/dist-packages/keras/src/saving/legacy/save.py\u001b[0m in \u001b[0;36mload_model\u001b[0;34m(filepath, custom_objects, compile, options)\u001b[0m\n\u001b[1;32m    232\u001b[0m                     \u001b[0;32mif\u001b[0m \u001b[0misinstance\u001b[0m\u001b[0;34m(\u001b[0m\u001b[0mfilepath_str\u001b[0m\u001b[0;34m,\u001b[0m \u001b[0mstr\u001b[0m\u001b[0;34m)\u001b[0m\u001b[0;34m:\u001b[0m\u001b[0;34m\u001b[0m\u001b[0;34m\u001b[0m\u001b[0m\n\u001b[1;32m    233\u001b[0m                         \u001b[0;32mif\u001b[0m \u001b[0;32mnot\u001b[0m \u001b[0mtf\u001b[0m\u001b[0;34m.\u001b[0m\u001b[0mio\u001b[0m\u001b[0;34m.\u001b[0m\u001b[0mgfile\u001b[0m\u001b[0;34m.\u001b[0m\u001b[0mexists\u001b[0m\u001b[0;34m(\u001b[0m\u001b[0mfilepath_str\u001b[0m\u001b[0;34m)\u001b[0m\u001b[0;34m:\u001b[0m\u001b[0;34m\u001b[0m\u001b[0;34m\u001b[0m\u001b[0m\n\u001b[0;32m--> 234\u001b[0;31m                             raise IOError(\n\u001b[0m\u001b[1;32m    235\u001b[0m                                 \u001b[0;34mf\"No file or directory found at {filepath_str}\"\u001b[0m\u001b[0;34m\u001b[0m\u001b[0;34m\u001b[0m\u001b[0m\n\u001b[1;32m    236\u001b[0m                             )\n",
            "\u001b[0;31mOSError\u001b[0m: No file or directory found at /content/drive/MyDrive/wail/ep20.keras"
          ]
        }
      ]
    },
    {
      "cell_type": "code",
      "source": [],
      "metadata": {
        "colab": {
          "base_uri": "https://localhost:8080/"
        },
        "id": "f0ZQx8Zi-YH-",
        "outputId": "dd1c6bb7-4feb-418a-d3fd-fcdc85e14d23"
      },
      "execution_count": null,
      "outputs": [
        {
          "output_type": "stream",
          "name": "stdout",
          "text": [
            "Model: \"model_1\"\n",
            "__________________________________________________________________________________________________\n",
            " Layer (type)                Output Shape                 Param #   Connected to                  \n",
            "==================================================================================================\n",
            " input_1 (InputLayer)        [(None, 224, 224, 3)]        0         []                            \n",
            "                                                                                                  \n",
            " conv1_pad (ZeroPadding2D)   (None, 230, 230, 3)          0         ['input_1[0][0]']             \n",
            "                                                                                                  \n",
            " conv1_conv (Conv2D)         (None, 112, 112, 64)         9472      ['conv1_pad[0][0]']           \n",
            "                                                                                                  \n",
            " conv1_bn (BatchNormalizati  (None, 112, 112, 64)         256       ['conv1_conv[0][0]']          \n",
            " on)                                                                                              \n",
            "                                                                                                  \n",
            " conv1_relu (Activation)     (None, 112, 112, 64)         0         ['conv1_bn[0][0]']            \n",
            "                                                                                                  \n",
            " pool1_pad (ZeroPadding2D)   (None, 114, 114, 64)         0         ['conv1_relu[0][0]']          \n",
            "                                                                                                  \n",
            " pool1_pool (MaxPooling2D)   (None, 56, 56, 64)           0         ['pool1_pad[0][0]']           \n",
            "                                                                                                  \n",
            " conv2_block1_1_conv (Conv2  (None, 56, 56, 64)           4160      ['pool1_pool[0][0]']          \n",
            " D)                                                                                               \n",
            "                                                                                                  \n",
            " conv2_block1_1_bn (BatchNo  (None, 56, 56, 64)           256       ['conv2_block1_1_conv[0][0]'] \n",
            " rmalization)                                                                                     \n",
            "                                                                                                  \n",
            " conv2_block1_1_relu (Activ  (None, 56, 56, 64)           0         ['conv2_block1_1_bn[0][0]']   \n",
            " ation)                                                                                           \n",
            "                                                                                                  \n",
            " conv2_block1_2_conv (Conv2  (None, 56, 56, 64)           36928     ['conv2_block1_1_relu[0][0]'] \n",
            " D)                                                                                               \n",
            "                                                                                                  \n",
            " conv2_block1_2_bn (BatchNo  (None, 56, 56, 64)           256       ['conv2_block1_2_conv[0][0]'] \n",
            " rmalization)                                                                                     \n",
            "                                                                                                  \n",
            " conv2_block1_2_relu (Activ  (None, 56, 56, 64)           0         ['conv2_block1_2_bn[0][0]']   \n",
            " ation)                                                                                           \n",
            "                                                                                                  \n",
            " conv2_block1_0_conv (Conv2  (None, 56, 56, 256)          16640     ['pool1_pool[0][0]']          \n",
            " D)                                                                                               \n",
            "                                                                                                  \n",
            " conv2_block1_3_conv (Conv2  (None, 56, 56, 256)          16640     ['conv2_block1_2_relu[0][0]'] \n",
            " D)                                                                                               \n",
            "                                                                                                  \n",
            " conv2_block1_0_bn (BatchNo  (None, 56, 56, 256)          1024      ['conv2_block1_0_conv[0][0]'] \n",
            " rmalization)                                                                                     \n",
            "                                                                                                  \n",
            " conv2_block1_3_bn (BatchNo  (None, 56, 56, 256)          1024      ['conv2_block1_3_conv[0][0]'] \n",
            " rmalization)                                                                                     \n",
            "                                                                                                  \n",
            " conv2_block1_add (Add)      (None, 56, 56, 256)          0         ['conv2_block1_0_bn[0][0]',   \n",
            "                                                                     'conv2_block1_3_bn[0][0]']   \n",
            "                                                                                                  \n",
            " conv2_block1_out (Activati  (None, 56, 56, 256)          0         ['conv2_block1_add[0][0]']    \n",
            " on)                                                                                              \n",
            "                                                                                                  \n",
            " conv2_block2_1_conv (Conv2  (None, 56, 56, 64)           16448     ['conv2_block1_out[0][0]']    \n",
            " D)                                                                                               \n",
            "                                                                                                  \n",
            " conv2_block2_1_bn (BatchNo  (None, 56, 56, 64)           256       ['conv2_block2_1_conv[0][0]'] \n",
            " rmalization)                                                                                     \n",
            "                                                                                                  \n",
            " conv2_block2_1_relu (Activ  (None, 56, 56, 64)           0         ['conv2_block2_1_bn[0][0]']   \n",
            " ation)                                                                                           \n",
            "                                                                                                  \n",
            " conv2_block2_2_conv (Conv2  (None, 56, 56, 64)           36928     ['conv2_block2_1_relu[0][0]'] \n",
            " D)                                                                                               \n",
            "                                                                                                  \n",
            " conv2_block2_2_bn (BatchNo  (None, 56, 56, 64)           256       ['conv2_block2_2_conv[0][0]'] \n",
            " rmalization)                                                                                     \n",
            "                                                                                                  \n",
            " conv2_block2_2_relu (Activ  (None, 56, 56, 64)           0         ['conv2_block2_2_bn[0][0]']   \n",
            " ation)                                                                                           \n",
            "                                                                                                  \n",
            " conv2_block2_3_conv (Conv2  (None, 56, 56, 256)          16640     ['conv2_block2_2_relu[0][0]'] \n",
            " D)                                                                                               \n",
            "                                                                                                  \n",
            " conv2_block2_3_bn (BatchNo  (None, 56, 56, 256)          1024      ['conv2_block2_3_conv[0][0]'] \n",
            " rmalization)                                                                                     \n",
            "                                                                                                  \n",
            " conv2_block2_add (Add)      (None, 56, 56, 256)          0         ['conv2_block1_out[0][0]',    \n",
            "                                                                     'conv2_block2_3_bn[0][0]']   \n",
            "                                                                                                  \n",
            " conv2_block2_out (Activati  (None, 56, 56, 256)          0         ['conv2_block2_add[0][0]']    \n",
            " on)                                                                                              \n",
            "                                                                                                  \n",
            " conv2_block3_1_conv (Conv2  (None, 56, 56, 64)           16448     ['conv2_block2_out[0][0]']    \n",
            " D)                                                                                               \n",
            "                                                                                                  \n",
            " conv2_block3_1_bn (BatchNo  (None, 56, 56, 64)           256       ['conv2_block3_1_conv[0][0]'] \n",
            " rmalization)                                                                                     \n",
            "                                                                                                  \n",
            " conv2_block3_1_relu (Activ  (None, 56, 56, 64)           0         ['conv2_block3_1_bn[0][0]']   \n",
            " ation)                                                                                           \n",
            "                                                                                                  \n",
            " conv2_block3_2_conv (Conv2  (None, 56, 56, 64)           36928     ['conv2_block3_1_relu[0][0]'] \n",
            " D)                                                                                               \n",
            "                                                                                                  \n",
            " conv2_block3_2_bn (BatchNo  (None, 56, 56, 64)           256       ['conv2_block3_2_conv[0][0]'] \n",
            " rmalization)                                                                                     \n",
            "                                                                                                  \n",
            " conv2_block3_2_relu (Activ  (None, 56, 56, 64)           0         ['conv2_block3_2_bn[0][0]']   \n",
            " ation)                                                                                           \n",
            "                                                                                                  \n",
            " conv2_block3_3_conv (Conv2  (None, 56, 56, 256)          16640     ['conv2_block3_2_relu[0][0]'] \n",
            " D)                                                                                               \n",
            "                                                                                                  \n",
            " conv2_block3_3_bn (BatchNo  (None, 56, 56, 256)          1024      ['conv2_block3_3_conv[0][0]'] \n",
            " rmalization)                                                                                     \n",
            "                                                                                                  \n",
            " conv2_block3_add (Add)      (None, 56, 56, 256)          0         ['conv2_block2_out[0][0]',    \n",
            "                                                                     'conv2_block3_3_bn[0][0]']   \n",
            "                                                                                                  \n",
            " conv2_block3_out (Activati  (None, 56, 56, 256)          0         ['conv2_block3_add[0][0]']    \n",
            " on)                                                                                              \n",
            "                                                                                                  \n",
            " conv3_block1_1_conv (Conv2  (None, 28, 28, 128)          32896     ['conv2_block3_out[0][0]']    \n",
            " D)                                                                                               \n",
            "                                                                                                  \n",
            " conv3_block1_1_bn (BatchNo  (None, 28, 28, 128)          512       ['conv3_block1_1_conv[0][0]'] \n",
            " rmalization)                                                                                     \n",
            "                                                                                                  \n",
            " conv3_block1_1_relu (Activ  (None, 28, 28, 128)          0         ['conv3_block1_1_bn[0][0]']   \n",
            " ation)                                                                                           \n",
            "                                                                                                  \n",
            " conv3_block1_2_conv (Conv2  (None, 28, 28, 128)          147584    ['conv3_block1_1_relu[0][0]'] \n",
            " D)                                                                                               \n",
            "                                                                                                  \n",
            " conv3_block1_2_bn (BatchNo  (None, 28, 28, 128)          512       ['conv3_block1_2_conv[0][0]'] \n",
            " rmalization)                                                                                     \n",
            "                                                                                                  \n",
            " conv3_block1_2_relu (Activ  (None, 28, 28, 128)          0         ['conv3_block1_2_bn[0][0]']   \n",
            " ation)                                                                                           \n",
            "                                                                                                  \n",
            " conv3_block1_0_conv (Conv2  (None, 28, 28, 512)          131584    ['conv2_block3_out[0][0]']    \n",
            " D)                                                                                               \n",
            "                                                                                                  \n",
            " conv3_block1_3_conv (Conv2  (None, 28, 28, 512)          66048     ['conv3_block1_2_relu[0][0]'] \n",
            " D)                                                                                               \n",
            "                                                                                                  \n",
            " conv3_block1_0_bn (BatchNo  (None, 28, 28, 512)          2048      ['conv3_block1_0_conv[0][0]'] \n",
            " rmalization)                                                                                     \n",
            "                                                                                                  \n",
            " conv3_block1_3_bn (BatchNo  (None, 28, 28, 512)          2048      ['conv3_block1_3_conv[0][0]'] \n",
            " rmalization)                                                                                     \n",
            "                                                                                                  \n",
            " conv3_block1_add (Add)      (None, 28, 28, 512)          0         ['conv3_block1_0_bn[0][0]',   \n",
            "                                                                     'conv3_block1_3_bn[0][0]']   \n",
            "                                                                                                  \n",
            " conv3_block1_out (Activati  (None, 28, 28, 512)          0         ['conv3_block1_add[0][0]']    \n",
            " on)                                                                                              \n",
            "                                                                                                  \n",
            " conv3_block2_1_conv (Conv2  (None, 28, 28, 128)          65664     ['conv3_block1_out[0][0]']    \n",
            " D)                                                                                               \n",
            "                                                                                                  \n",
            " conv3_block2_1_bn (BatchNo  (None, 28, 28, 128)          512       ['conv3_block2_1_conv[0][0]'] \n",
            " rmalization)                                                                                     \n",
            "                                                                                                  \n",
            " conv3_block2_1_relu (Activ  (None, 28, 28, 128)          0         ['conv3_block2_1_bn[0][0]']   \n",
            " ation)                                                                                           \n",
            "                                                                                                  \n",
            " conv3_block2_2_conv (Conv2  (None, 28, 28, 128)          147584    ['conv3_block2_1_relu[0][0]'] \n",
            " D)                                                                                               \n",
            "                                                                                                  \n",
            " conv3_block2_2_bn (BatchNo  (None, 28, 28, 128)          512       ['conv3_block2_2_conv[0][0]'] \n",
            " rmalization)                                                                                     \n",
            "                                                                                                  \n",
            " conv3_block2_2_relu (Activ  (None, 28, 28, 128)          0         ['conv3_block2_2_bn[0][0]']   \n",
            " ation)                                                                                           \n",
            "                                                                                                  \n",
            " conv3_block2_3_conv (Conv2  (None, 28, 28, 512)          66048     ['conv3_block2_2_relu[0][0]'] \n",
            " D)                                                                                               \n",
            "                                                                                                  \n",
            " conv3_block2_3_bn (BatchNo  (None, 28, 28, 512)          2048      ['conv3_block2_3_conv[0][0]'] \n",
            " rmalization)                                                                                     \n",
            "                                                                                                  \n",
            " conv3_block2_add (Add)      (None, 28, 28, 512)          0         ['conv3_block1_out[0][0]',    \n",
            "                                                                     'conv3_block2_3_bn[0][0]']   \n",
            "                                                                                                  \n",
            " conv3_block2_out (Activati  (None, 28, 28, 512)          0         ['conv3_block2_add[0][0]']    \n",
            " on)                                                                                              \n",
            "                                                                                                  \n",
            " conv3_block3_1_conv (Conv2  (None, 28, 28, 128)          65664     ['conv3_block2_out[0][0]']    \n",
            " D)                                                                                               \n",
            "                                                                                                  \n",
            " conv3_block3_1_bn (BatchNo  (None, 28, 28, 128)          512       ['conv3_block3_1_conv[0][0]'] \n",
            " rmalization)                                                                                     \n",
            "                                                                                                  \n",
            " conv3_block3_1_relu (Activ  (None, 28, 28, 128)          0         ['conv3_block3_1_bn[0][0]']   \n",
            " ation)                                                                                           \n",
            "                                                                                                  \n",
            " conv3_block3_2_conv (Conv2  (None, 28, 28, 128)          147584    ['conv3_block3_1_relu[0][0]'] \n",
            " D)                                                                                               \n",
            "                                                                                                  \n",
            " conv3_block3_2_bn (BatchNo  (None, 28, 28, 128)          512       ['conv3_block3_2_conv[0][0]'] \n",
            " rmalization)                                                                                     \n",
            "                                                                                                  \n",
            " conv3_block3_2_relu (Activ  (None, 28, 28, 128)          0         ['conv3_block3_2_bn[0][0]']   \n",
            " ation)                                                                                           \n",
            "                                                                                                  \n",
            " conv3_block3_3_conv (Conv2  (None, 28, 28, 512)          66048     ['conv3_block3_2_relu[0][0]'] \n",
            " D)                                                                                               \n",
            "                                                                                                  \n",
            " conv3_block3_3_bn (BatchNo  (None, 28, 28, 512)          2048      ['conv3_block3_3_conv[0][0]'] \n",
            " rmalization)                                                                                     \n",
            "                                                                                                  \n",
            " conv3_block3_add (Add)      (None, 28, 28, 512)          0         ['conv3_block2_out[0][0]',    \n",
            "                                                                     'conv3_block3_3_bn[0][0]']   \n",
            "                                                                                                  \n",
            " conv3_block3_out (Activati  (None, 28, 28, 512)          0         ['conv3_block3_add[0][0]']    \n",
            " on)                                                                                              \n",
            "                                                                                                  \n",
            " conv3_block4_1_conv (Conv2  (None, 28, 28, 128)          65664     ['conv3_block3_out[0][0]']    \n",
            " D)                                                                                               \n",
            "                                                                                                  \n",
            " conv3_block4_1_bn (BatchNo  (None, 28, 28, 128)          512       ['conv3_block4_1_conv[0][0]'] \n",
            " rmalization)                                                                                     \n",
            "                                                                                                  \n",
            " conv3_block4_1_relu (Activ  (None, 28, 28, 128)          0         ['conv3_block4_1_bn[0][0]']   \n",
            " ation)                                                                                           \n",
            "                                                                                                  \n",
            " conv3_block4_2_conv (Conv2  (None, 28, 28, 128)          147584    ['conv3_block4_1_relu[0][0]'] \n",
            " D)                                                                                               \n",
            "                                                                                                  \n",
            " conv3_block4_2_bn (BatchNo  (None, 28, 28, 128)          512       ['conv3_block4_2_conv[0][0]'] \n",
            " rmalization)                                                                                     \n",
            "                                                                                                  \n",
            " conv3_block4_2_relu (Activ  (None, 28, 28, 128)          0         ['conv3_block4_2_bn[0][0]']   \n",
            " ation)                                                                                           \n",
            "                                                                                                  \n",
            " conv3_block4_3_conv (Conv2  (None, 28, 28, 512)          66048     ['conv3_block4_2_relu[0][0]'] \n",
            " D)                                                                                               \n",
            "                                                                                                  \n",
            " conv3_block4_3_bn (BatchNo  (None, 28, 28, 512)          2048      ['conv3_block4_3_conv[0][0]'] \n",
            " rmalization)                                                                                     \n",
            "                                                                                                  \n",
            " conv3_block4_add (Add)      (None, 28, 28, 512)          0         ['conv3_block3_out[0][0]',    \n",
            "                                                                     'conv3_block4_3_bn[0][0]']   \n",
            "                                                                                                  \n",
            " conv3_block4_out (Activati  (None, 28, 28, 512)          0         ['conv3_block4_add[0][0]']    \n",
            " on)                                                                                              \n",
            "                                                                                                  \n",
            " conv4_block1_1_conv (Conv2  (None, 14, 14, 256)          131328    ['conv3_block4_out[0][0]']    \n",
            " D)                                                                                               \n",
            "                                                                                                  \n",
            " conv4_block1_1_bn (BatchNo  (None, 14, 14, 256)          1024      ['conv4_block1_1_conv[0][0]'] \n",
            " rmalization)                                                                                     \n",
            "                                                                                                  \n",
            " conv4_block1_1_relu (Activ  (None, 14, 14, 256)          0         ['conv4_block1_1_bn[0][0]']   \n",
            " ation)                                                                                           \n",
            "                                                                                                  \n",
            " conv4_block1_2_conv (Conv2  (None, 14, 14, 256)          590080    ['conv4_block1_1_relu[0][0]'] \n",
            " D)                                                                                               \n",
            "                                                                                                  \n",
            " conv4_block1_2_bn (BatchNo  (None, 14, 14, 256)          1024      ['conv4_block1_2_conv[0][0]'] \n",
            " rmalization)                                                                                     \n",
            "                                                                                                  \n",
            " conv4_block1_2_relu (Activ  (None, 14, 14, 256)          0         ['conv4_block1_2_bn[0][0]']   \n",
            " ation)                                                                                           \n",
            "                                                                                                  \n",
            " conv4_block1_0_conv (Conv2  (None, 14, 14, 1024)         525312    ['conv3_block4_out[0][0]']    \n",
            " D)                                                                                               \n",
            "                                                                                                  \n",
            " conv4_block1_3_conv (Conv2  (None, 14, 14, 1024)         263168    ['conv4_block1_2_relu[0][0]'] \n",
            " D)                                                                                               \n",
            "                                                                                                  \n",
            " conv4_block1_0_bn (BatchNo  (None, 14, 14, 1024)         4096      ['conv4_block1_0_conv[0][0]'] \n",
            " rmalization)                                                                                     \n",
            "                                                                                                  \n",
            " conv4_block1_3_bn (BatchNo  (None, 14, 14, 1024)         4096      ['conv4_block1_3_conv[0][0]'] \n",
            " rmalization)                                                                                     \n",
            "                                                                                                  \n",
            " conv4_block1_add (Add)      (None, 14, 14, 1024)         0         ['conv4_block1_0_bn[0][0]',   \n",
            "                                                                     'conv4_block1_3_bn[0][0]']   \n",
            "                                                                                                  \n",
            " conv4_block1_out (Activati  (None, 14, 14, 1024)         0         ['conv4_block1_add[0][0]']    \n",
            " on)                                                                                              \n",
            "                                                                                                  \n",
            " conv4_block2_1_conv (Conv2  (None, 14, 14, 256)          262400    ['conv4_block1_out[0][0]']    \n",
            " D)                                                                                               \n",
            "                                                                                                  \n",
            " conv4_block2_1_bn (BatchNo  (None, 14, 14, 256)          1024      ['conv4_block2_1_conv[0][0]'] \n",
            " rmalization)                                                                                     \n",
            "                                                                                                  \n",
            " conv4_block2_1_relu (Activ  (None, 14, 14, 256)          0         ['conv4_block2_1_bn[0][0]']   \n",
            " ation)                                                                                           \n",
            "                                                                                                  \n",
            " conv4_block2_2_conv (Conv2  (None, 14, 14, 256)          590080    ['conv4_block2_1_relu[0][0]'] \n",
            " D)                                                                                               \n",
            "                                                                                                  \n",
            " conv4_block2_2_bn (BatchNo  (None, 14, 14, 256)          1024      ['conv4_block2_2_conv[0][0]'] \n",
            " rmalization)                                                                                     \n",
            "                                                                                                  \n",
            " conv4_block2_2_relu (Activ  (None, 14, 14, 256)          0         ['conv4_block2_2_bn[0][0]']   \n",
            " ation)                                                                                           \n",
            "                                                                                                  \n",
            " conv4_block2_3_conv (Conv2  (None, 14, 14, 1024)         263168    ['conv4_block2_2_relu[0][0]'] \n",
            " D)                                                                                               \n",
            "                                                                                                  \n",
            " conv4_block2_3_bn (BatchNo  (None, 14, 14, 1024)         4096      ['conv4_block2_3_conv[0][0]'] \n",
            " rmalization)                                                                                     \n",
            "                                                                                                  \n",
            " conv4_block2_add (Add)      (None, 14, 14, 1024)         0         ['conv4_block1_out[0][0]',    \n",
            "                                                                     'conv4_block2_3_bn[0][0]']   \n",
            "                                                                                                  \n",
            " conv4_block2_out (Activati  (None, 14, 14, 1024)         0         ['conv4_block2_add[0][0]']    \n",
            " on)                                                                                              \n",
            "                                                                                                  \n",
            " conv4_block3_1_conv (Conv2  (None, 14, 14, 256)          262400    ['conv4_block2_out[0][0]']    \n",
            " D)                                                                                               \n",
            "                                                                                                  \n",
            " conv4_block3_1_bn (BatchNo  (None, 14, 14, 256)          1024      ['conv4_block3_1_conv[0][0]'] \n",
            " rmalization)                                                                                     \n",
            "                                                                                                  \n",
            " conv4_block3_1_relu (Activ  (None, 14, 14, 256)          0         ['conv4_block3_1_bn[0][0]']   \n",
            " ation)                                                                                           \n",
            "                                                                                                  \n",
            " conv4_block3_2_conv (Conv2  (None, 14, 14, 256)          590080    ['conv4_block3_1_relu[0][0]'] \n",
            " D)                                                                                               \n",
            "                                                                                                  \n",
            " conv4_block3_2_bn (BatchNo  (None, 14, 14, 256)          1024      ['conv4_block3_2_conv[0][0]'] \n",
            " rmalization)                                                                                     \n",
            "                                                                                                  \n",
            " conv4_block3_2_relu (Activ  (None, 14, 14, 256)          0         ['conv4_block3_2_bn[0][0]']   \n",
            " ation)                                                                                           \n",
            "                                                                                                  \n",
            " conv4_block3_3_conv (Conv2  (None, 14, 14, 1024)         263168    ['conv4_block3_2_relu[0][0]'] \n",
            " D)                                                                                               \n",
            "                                                                                                  \n",
            " conv4_block3_3_bn (BatchNo  (None, 14, 14, 1024)         4096      ['conv4_block3_3_conv[0][0]'] \n",
            " rmalization)                                                                                     \n",
            "                                                                                                  \n",
            " conv4_block3_add (Add)      (None, 14, 14, 1024)         0         ['conv4_block2_out[0][0]',    \n",
            "                                                                     'conv4_block3_3_bn[0][0]']   \n",
            "                                                                                                  \n",
            " conv4_block3_out (Activati  (None, 14, 14, 1024)         0         ['conv4_block3_add[0][0]']    \n",
            " on)                                                                                              \n",
            "                                                                                                  \n",
            " conv4_block4_1_conv (Conv2  (None, 14, 14, 256)          262400    ['conv4_block3_out[0][0]']    \n",
            " D)                                                                                               \n",
            "                                                                                                  \n",
            " conv4_block4_1_bn (BatchNo  (None, 14, 14, 256)          1024      ['conv4_block4_1_conv[0][0]'] \n",
            " rmalization)                                                                                     \n",
            "                                                                                                  \n",
            " conv4_block4_1_relu (Activ  (None, 14, 14, 256)          0         ['conv4_block4_1_bn[0][0]']   \n",
            " ation)                                                                                           \n",
            "                                                                                                  \n",
            " conv4_block4_2_conv (Conv2  (None, 14, 14, 256)          590080    ['conv4_block4_1_relu[0][0]'] \n",
            " D)                                                                                               \n",
            "                                                                                                  \n",
            " conv4_block4_2_bn (BatchNo  (None, 14, 14, 256)          1024      ['conv4_block4_2_conv[0][0]'] \n",
            " rmalization)                                                                                     \n",
            "                                                                                                  \n",
            " conv4_block4_2_relu (Activ  (None, 14, 14, 256)          0         ['conv4_block4_2_bn[0][0]']   \n",
            " ation)                                                                                           \n",
            "                                                                                                  \n",
            " conv4_block4_3_conv (Conv2  (None, 14, 14, 1024)         263168    ['conv4_block4_2_relu[0][0]'] \n",
            " D)                                                                                               \n",
            "                                                                                                  \n",
            " conv4_block4_3_bn (BatchNo  (None, 14, 14, 1024)         4096      ['conv4_block4_3_conv[0][0]'] \n",
            " rmalization)                                                                                     \n",
            "                                                                                                  \n",
            " conv4_block4_add (Add)      (None, 14, 14, 1024)         0         ['conv4_block3_out[0][0]',    \n",
            "                                                                     'conv4_block4_3_bn[0][0]']   \n",
            "                                                                                                  \n",
            " conv4_block4_out (Activati  (None, 14, 14, 1024)         0         ['conv4_block4_add[0][0]']    \n",
            " on)                                                                                              \n",
            "                                                                                                  \n",
            " conv4_block5_1_conv (Conv2  (None, 14, 14, 256)          262400    ['conv4_block4_out[0][0]']    \n",
            " D)                                                                                               \n",
            "                                                                                                  \n",
            " conv4_block5_1_bn (BatchNo  (None, 14, 14, 256)          1024      ['conv4_block5_1_conv[0][0]'] \n",
            " rmalization)                                                                                     \n",
            "                                                                                                  \n",
            " conv4_block5_1_relu (Activ  (None, 14, 14, 256)          0         ['conv4_block5_1_bn[0][0]']   \n",
            " ation)                                                                                           \n",
            "                                                                                                  \n",
            " conv4_block5_2_conv (Conv2  (None, 14, 14, 256)          590080    ['conv4_block5_1_relu[0][0]'] \n",
            " D)                                                                                               \n",
            "                                                                                                  \n",
            " conv4_block5_2_bn (BatchNo  (None, 14, 14, 256)          1024      ['conv4_block5_2_conv[0][0]'] \n",
            " rmalization)                                                                                     \n",
            "                                                                                                  \n",
            " conv4_block5_2_relu (Activ  (None, 14, 14, 256)          0         ['conv4_block5_2_bn[0][0]']   \n",
            " ation)                                                                                           \n",
            "                                                                                                  \n",
            " conv4_block5_3_conv (Conv2  (None, 14, 14, 1024)         263168    ['conv4_block5_2_relu[0][0]'] \n",
            " D)                                                                                               \n",
            "                                                                                                  \n",
            " conv4_block5_3_bn (BatchNo  (None, 14, 14, 1024)         4096      ['conv4_block5_3_conv[0][0]'] \n",
            " rmalization)                                                                                     \n",
            "                                                                                                  \n",
            " conv4_block5_add (Add)      (None, 14, 14, 1024)         0         ['conv4_block4_out[0][0]',    \n",
            "                                                                     'conv4_block5_3_bn[0][0]']   \n",
            "                                                                                                  \n",
            " conv4_block5_out (Activati  (None, 14, 14, 1024)         0         ['conv4_block5_add[0][0]']    \n",
            " on)                                                                                              \n",
            "                                                                                                  \n",
            " conv4_block6_1_conv (Conv2  (None, 14, 14, 256)          262400    ['conv4_block5_out[0][0]']    \n",
            " D)                                                                                               \n",
            "                                                                                                  \n",
            " conv4_block6_1_bn (BatchNo  (None, 14, 14, 256)          1024      ['conv4_block6_1_conv[0][0]'] \n",
            " rmalization)                                                                                     \n",
            "                                                                                                  \n",
            " conv4_block6_1_relu (Activ  (None, 14, 14, 256)          0         ['conv4_block6_1_bn[0][0]']   \n",
            " ation)                                                                                           \n",
            "                                                                                                  \n",
            " conv4_block6_2_conv (Conv2  (None, 14, 14, 256)          590080    ['conv4_block6_1_relu[0][0]'] \n",
            " D)                                                                                               \n",
            "                                                                                                  \n",
            " conv4_block6_2_bn (BatchNo  (None, 14, 14, 256)          1024      ['conv4_block6_2_conv[0][0]'] \n",
            " rmalization)                                                                                     \n",
            "                                                                                                  \n",
            " conv4_block6_2_relu (Activ  (None, 14, 14, 256)          0         ['conv4_block6_2_bn[0][0]']   \n",
            " ation)                                                                                           \n",
            "                                                                                                  \n",
            " conv4_block6_3_conv (Conv2  (None, 14, 14, 1024)         263168    ['conv4_block6_2_relu[0][0]'] \n",
            " D)                                                                                               \n",
            "                                                                                                  \n",
            " conv4_block6_3_bn (BatchNo  (None, 14, 14, 1024)         4096      ['conv4_block6_3_conv[0][0]'] \n",
            " rmalization)                                                                                     \n",
            "                                                                                                  \n",
            " conv4_block6_add (Add)      (None, 14, 14, 1024)         0         ['conv4_block5_out[0][0]',    \n",
            "                                                                     'conv4_block6_3_bn[0][0]']   \n",
            "                                                                                                  \n",
            " conv4_block6_out (Activati  (None, 14, 14, 1024)         0         ['conv4_block6_add[0][0]']    \n",
            " on)                                                                                              \n",
            "                                                                                                  \n",
            " conv5_block1_1_conv (Conv2  (None, 7, 7, 512)            524800    ['conv4_block6_out[0][0]']    \n",
            " D)                                                                                               \n",
            "                                                                                                  \n",
            " conv5_block1_1_bn (BatchNo  (None, 7, 7, 512)            2048      ['conv5_block1_1_conv[0][0]'] \n",
            " rmalization)                                                                                     \n",
            "                                                                                                  \n",
            " conv5_block1_1_relu (Activ  (None, 7, 7, 512)            0         ['conv5_block1_1_bn[0][0]']   \n",
            " ation)                                                                                           \n",
            "                                                                                                  \n",
            " conv5_block1_2_conv (Conv2  (None, 7, 7, 512)            2359808   ['conv5_block1_1_relu[0][0]'] \n",
            " D)                                                                                               \n",
            "                                                                                                  \n",
            " conv5_block1_2_bn (BatchNo  (None, 7, 7, 512)            2048      ['conv5_block1_2_conv[0][0]'] \n",
            " rmalization)                                                                                     \n",
            "                                                                                                  \n",
            " conv5_block1_2_relu (Activ  (None, 7, 7, 512)            0         ['conv5_block1_2_bn[0][0]']   \n",
            " ation)                                                                                           \n",
            "                                                                                                  \n",
            " conv5_block1_0_conv (Conv2  (None, 7, 7, 2048)           2099200   ['conv4_block6_out[0][0]']    \n",
            " D)                                                                                               \n",
            "                                                                                                  \n",
            " conv5_block1_3_conv (Conv2  (None, 7, 7, 2048)           1050624   ['conv5_block1_2_relu[0][0]'] \n",
            " D)                                                                                               \n",
            "                                                                                                  \n",
            " conv5_block1_0_bn (BatchNo  (None, 7, 7, 2048)           8192      ['conv5_block1_0_conv[0][0]'] \n",
            " rmalization)                                                                                     \n",
            "                                                                                                  \n",
            " conv5_block1_3_bn (BatchNo  (None, 7, 7, 2048)           8192      ['conv5_block1_3_conv[0][0]'] \n",
            " rmalization)                                                                                     \n",
            "                                                                                                  \n",
            " conv5_block1_add (Add)      (None, 7, 7, 2048)           0         ['conv5_block1_0_bn[0][0]',   \n",
            "                                                                     'conv5_block1_3_bn[0][0]']   \n",
            "                                                                                                  \n",
            " conv5_block1_out (Activati  (None, 7, 7, 2048)           0         ['conv5_block1_add[0][0]']    \n",
            " on)                                                                                              \n",
            "                                                                                                  \n",
            " conv5_block2_1_conv (Conv2  (None, 7, 7, 512)            1049088   ['conv5_block1_out[0][0]']    \n",
            " D)                                                                                               \n",
            "                                                                                                  \n",
            " conv5_block2_1_bn (BatchNo  (None, 7, 7, 512)            2048      ['conv5_block2_1_conv[0][0]'] \n",
            " rmalization)                                                                                     \n",
            "                                                                                                  \n",
            " conv5_block2_1_relu (Activ  (None, 7, 7, 512)            0         ['conv5_block2_1_bn[0][0]']   \n",
            " ation)                                                                                           \n",
            "                                                                                                  \n",
            " conv5_block2_2_conv (Conv2  (None, 7, 7, 512)            2359808   ['conv5_block2_1_relu[0][0]'] \n",
            " D)                                                                                               \n",
            "                                                                                                  \n",
            " conv5_block2_2_bn (BatchNo  (None, 7, 7, 512)            2048      ['conv5_block2_2_conv[0][0]'] \n",
            " rmalization)                                                                                     \n",
            "                                                                                                  \n",
            " conv5_block2_2_relu (Activ  (None, 7, 7, 512)            0         ['conv5_block2_2_bn[0][0]']   \n",
            " ation)                                                                                           \n",
            "                                                                                                  \n",
            " conv5_block2_3_conv (Conv2  (None, 7, 7, 2048)           1050624   ['conv5_block2_2_relu[0][0]'] \n",
            " D)                                                                                               \n",
            "                                                                                                  \n",
            " conv5_block2_3_bn (BatchNo  (None, 7, 7, 2048)           8192      ['conv5_block2_3_conv[0][0]'] \n",
            " rmalization)                                                                                     \n",
            "                                                                                                  \n",
            " conv5_block2_add (Add)      (None, 7, 7, 2048)           0         ['conv5_block1_out[0][0]',    \n",
            "                                                                     'conv5_block2_3_bn[0][0]']   \n",
            "                                                                                                  \n",
            " conv5_block2_out (Activati  (None, 7, 7, 2048)           0         ['conv5_block2_add[0][0]']    \n",
            " on)                                                                                              \n",
            "                                                                                                  \n",
            " conv5_block3_1_conv (Conv2  (None, 7, 7, 512)            1049088   ['conv5_block2_out[0][0]']    \n",
            " D)                                                                                               \n",
            "                                                                                                  \n",
            " conv5_block3_1_bn (BatchNo  (None, 7, 7, 512)            2048      ['conv5_block3_1_conv[0][0]'] \n",
            " rmalization)                                                                                     \n",
            "                                                                                                  \n",
            " conv5_block3_1_relu (Activ  (None, 7, 7, 512)            0         ['conv5_block3_1_bn[0][0]']   \n",
            " ation)                                                                                           \n",
            "                                                                                                  \n",
            " conv5_block3_2_conv (Conv2  (None, 7, 7, 512)            2359808   ['conv5_block3_1_relu[0][0]'] \n",
            " D)                                                                                               \n",
            "                                                                                                  \n",
            " conv5_block3_2_bn (BatchNo  (None, 7, 7, 512)            2048      ['conv5_block3_2_conv[0][0]'] \n",
            " rmalization)                                                                                     \n",
            "                                                                                                  \n",
            " conv5_block3_2_relu (Activ  (None, 7, 7, 512)            0         ['conv5_block3_2_bn[0][0]']   \n",
            " ation)                                                                                           \n",
            "                                                                                                  \n",
            " conv5_block3_3_conv (Conv2  (None, 7, 7, 2048)           1050624   ['conv5_block3_2_relu[0][0]'] \n",
            " D)                                                                                               \n",
            "                                                                                                  \n",
            " conv5_block3_3_bn (BatchNo  (None, 7, 7, 2048)           8192      ['conv5_block3_3_conv[0][0]'] \n",
            " rmalization)                                                                                     \n",
            "                                                                                                  \n",
            " conv5_block3_add (Add)      (None, 7, 7, 2048)           0         ['conv5_block2_out[0][0]',    \n",
            "                                                                     'conv5_block3_3_bn[0][0]']   \n",
            "                                                                                                  \n",
            " conv5_block3_out (Activati  (None, 7, 7, 2048)           0         ['conv5_block3_add[0][0]']    \n",
            " on)                                                                                              \n",
            "                                                                                                  \n",
            " global_average_pooling2d (  (None, 2048)                 0         ['conv5_block3_out[0][0]']    \n",
            " GlobalAveragePooling2D)                                                                          \n",
            "                                                                                                  \n",
            " dense (Dense)               (None, 256)                  524544    ['global_average_pooling2d[0][\n",
            "                                                                    0]']                          \n",
            "                                                                                                  \n",
            " dense_1 (Dense)             (None, 39)                   10023     ['dense[0][0]']               \n",
            "                                                                                                  \n",
            "==================================================================================================\n",
            "Total params: 24122279 (92.02 MB)\n",
            "Trainable params: 534567 (2.04 MB)\n",
            "Non-trainable params: 23587712 (89.98 MB)\n",
            "__________________________________________________________________________________________________\n"
          ]
        }
      ]
    },
    {
      "cell_type": "code",
      "source": [
        "image = plt.imread(\"tomato.jpg\")\n",
        "plt.imshow(image)"
      ],
      "metadata": {
        "colab": {
          "base_uri": "https://localhost:8080/",
          "height": 438
        },
        "id": "tfArwpOa-a69",
        "outputId": "960abfb7-f181-49b2-efa4-f9f69b450a6a"
      },
      "execution_count": null,
      "outputs": [
        {
          "output_type": "execute_result",
          "data": {
            "text/plain": [
              "<matplotlib.image.AxesImage at 0x7fa2dc9af0d0>"
            ]
          },
          "metadata": {},
          "execution_count": 54
        },
        {
          "output_type": "display_data",
          "data": {
            "text/plain": [
              "<Figure size 640x480 with 1 Axes>"
            ],
            "image/png": "[encoded data removed]"
          },
          "metadata": {}
        }
      ]
    },
    {
      "cell_type": "code",
      "source": [
        "images = []"
      ],
      "metadata": {
        "id": "KzDHkODXEMCa"
      },
      "execution_count": null,
      "outputs": []
    },
    {
      "cell_type": "code",
      "source": [
        "image = load_img(\"potato.png\", target_size=(256,256))\n",
        "image = img_to_array(image)/255.0\n",
        "images.append(image)"
      ],
      "metadata": {
        "id": "2XQagw9rCO1z"
      },
      "execution_count": null,
      "outputs": []
    },
    {
      "cell_type": "code",
      "source": [],
      "metadata": {
        "id": "u5lMCv6bP9IT"
      },
      "execution_count": null,
      "outputs": []
    },
    {
      "cell_type": "code",
      "source": [
        "from tensorflow.keras.preprocessing import image\n",
        "from tensorflow.keras.applications.resnet50 import preprocess_input\n",
        "\n",
        "# Load and preprocess a single image\n",
        "img_path = '/content/aug_4_85e9bd6d-29f1-4ee1-a5ba-d2d35ee8d440___RS_L.Scorch 1218.JPG'\n",
        "img = image.load_img(img_path, target_size=(256, 256))\n",
        "img_array = image.img_to_array(img)\n",
        "img_array = np.expand_dims(img_array, axis=0)\n",
        "# img_array = preprocess_input(img_array)\n"
      ],
      "metadata": {
        "id": "b3aFakdrFNTR",
        "colab": {
          "base_uri": "https://localhost:8080/",
          "height": 435
        },
        "outputId": "7997db85-be30-43f8-9bde-bdf03f2e667e"
      },
      "execution_count": null,
      "outputs": [
        {
          "output_type": "error",
          "ename": "FileNotFoundError",
          "evalue": "ignored",
          "traceback": [
            "\u001b[0;31m---------------------------------------------------------------------------\u001b[0m",
            "\u001b[0;31mFileNotFoundError\u001b[0m                         Traceback (most recent call last)",
            "\u001b[0;32m<ipython-input-40-001303671453>\u001b[0m in \u001b[0;36m<cell line: 6>\u001b[0;34m()\u001b[0m\n\u001b[1;32m      4\u001b[0m \u001b[0;31m# Load and preprocess a single image\u001b[0m\u001b[0;34m\u001b[0m\u001b[0;34m\u001b[0m\u001b[0m\n\u001b[1;32m      5\u001b[0m \u001b[0mimg_path\u001b[0m \u001b[0;34m=\u001b[0m \u001b[0;34m'/content/aug_4_85e9bd6d-29f1-4ee1-a5ba-d2d35ee8d440___RS_L.Scorch 1218.JPG'\u001b[0m\u001b[0;34m\u001b[0m\u001b[0;34m\u001b[0m\u001b[0m\n\u001b[0;32m----> 6\u001b[0;31m \u001b[0mimg\u001b[0m \u001b[0;34m=\u001b[0m \u001b[0mimage\u001b[0m\u001b[0;34m.\u001b[0m\u001b[0mload_img\u001b[0m\u001b[0;34m(\u001b[0m\u001b[0mimg_path\u001b[0m\u001b[0;34m,\u001b[0m \u001b[0mtarget_size\u001b[0m\u001b[0;34m=\u001b[0m\u001b[0;34m(\u001b[0m\u001b[0;36m256\u001b[0m\u001b[0;34m,\u001b[0m \u001b[0;36m256\u001b[0m\u001b[0;34m)\u001b[0m\u001b[0;34m)\u001b[0m\u001b[0;34m\u001b[0m\u001b[0;34m\u001b[0m\u001b[0m\n\u001b[0m\u001b[1;32m      7\u001b[0m \u001b[0mimg_array\u001b[0m \u001b[0;34m=\u001b[0m \u001b[0mimage\u001b[0m\u001b[0;34m.\u001b[0m\u001b[0mimg_to_array\u001b[0m\u001b[0;34m(\u001b[0m\u001b[0mimg\u001b[0m\u001b[0;34m)\u001b[0m\u001b[0;34m\u001b[0m\u001b[0;34m\u001b[0m\u001b[0m\n\u001b[1;32m      8\u001b[0m \u001b[0mimg_array\u001b[0m \u001b[0;34m=\u001b[0m \u001b[0mnp\u001b[0m\u001b[0;34m.\u001b[0m\u001b[0mexpand_dims\u001b[0m\u001b[0;34m(\u001b[0m\u001b[0mimg_array\u001b[0m\u001b[0;34m,\u001b[0m \u001b[0maxis\u001b[0m\u001b[0;34m=\u001b[0m\u001b[0;36m0\u001b[0m\u001b[0;34m)\u001b[0m\u001b[0;34m\u001b[0m\u001b[0;34m\u001b[0m\u001b[0m\n",
            "\u001b[0;32m/usr/local/lib/python3.10/dist-packages/keras/src/utils/image_utils.py\u001b[0m in \u001b[0;36mload_img\u001b[0;34m(path, grayscale, color_mode, target_size, interpolation, keep_aspect_ratio)\u001b[0m\n\u001b[1;32m    420\u001b[0m         \u001b[0;32mif\u001b[0m \u001b[0misinstance\u001b[0m\u001b[0;34m(\u001b[0m\u001b[0mpath\u001b[0m\u001b[0;34m,\u001b[0m \u001b[0mpathlib\u001b[0m\u001b[0;34m.\u001b[0m\u001b[0mPath\u001b[0m\u001b[0;34m)\u001b[0m\u001b[0;34m:\u001b[0m\u001b[0;34m\u001b[0m\u001b[0;34m\u001b[0m\u001b[0m\n\u001b[1;32m    421\u001b[0m             \u001b[0mpath\u001b[0m \u001b[0;34m=\u001b[0m \u001b[0mstr\u001b[0m\u001b[0;34m(\u001b[0m\u001b[0mpath\u001b[0m\u001b[0;34m.\u001b[0m\u001b[0mresolve\u001b[0m\u001b[0;34m(\u001b[0m\u001b[0;34m)\u001b[0m\u001b[0;34m)\u001b[0m\u001b[0;34m\u001b[0m\u001b[0;34m\u001b[0m\u001b[0m\n\u001b[0;32m--> 422\u001b[0;31m         \u001b[0;32mwith\u001b[0m \u001b[0mopen\u001b[0m\u001b[0;34m(\u001b[0m\u001b[0mpath\u001b[0m\u001b[0;34m,\u001b[0m \u001b[0;34m\"rb\"\u001b[0m\u001b[0;34m)\u001b[0m \u001b[0;32mas\u001b[0m \u001b[0mf\u001b[0m\u001b[0;34m:\u001b[0m\u001b[0;34m\u001b[0m\u001b[0;34m\u001b[0m\u001b[0m\n\u001b[0m\u001b[1;32m    423\u001b[0m             \u001b[0mimg\u001b[0m \u001b[0;34m=\u001b[0m \u001b[0mpil_image\u001b[0m\u001b[0;34m.\u001b[0m\u001b[0mopen\u001b[0m\u001b[0;34m(\u001b[0m\u001b[0mio\u001b[0m\u001b[0;34m.\u001b[0m\u001b[0mBytesIO\u001b[0m\u001b[0;34m(\u001b[0m\u001b[0mf\u001b[0m\u001b[0;34m.\u001b[0m\u001b[0mread\u001b[0m\u001b[0;34m(\u001b[0m\u001b[0;34m)\u001b[0m\u001b[0;34m)\u001b[0m\u001b[0;34m)\u001b[0m\u001b[0;34m\u001b[0m\u001b[0;34m\u001b[0m\u001b[0m\n\u001b[1;32m    424\u001b[0m     \u001b[0;32melse\u001b[0m\u001b[0;34m:\u001b[0m\u001b[0;34m\u001b[0m\u001b[0;34m\u001b[0m\u001b[0m\n",
            "\u001b[0;31mFileNotFoundError\u001b[0m: [Errno 2] No such file or directory: '/content/aug_4_85e9bd6d-29f1-4ee1-a5ba-d2d35ee8d440___RS_L.Scorch 1218.JPG'"
          ]
        }
      ]
    },
    {
      "cell_type": "code",
      "source": [],
      "metadata": {
        "id": "pAQGYbgoRCkn"
      },
      "execution_count": null,
      "outputs": []
    },
    {
      "cell_type": "code",
      "source": [
        "pr = model.predict(img_array)"
      ],
      "metadata": {
        "colab": {
          "base_uri": "https://localhost:8080/"
        },
        "id": "_r7jxOUkQp7O",
        "outputId": "b2b68bba-8b8b-4afb-c961-92528f5c197b"
      },
      "execution_count": null,
      "outputs": [
        {
          "output_type": "stream",
          "name": "stdout",
          "text": [
            "1/1 [==============================] - 0s 105ms/step\n"
          ]
        }
      ]
    },
    {
      "cell_type": "code",
      "source": [
        "pr"
      ],
      "metadata": {
        "colab": {
          "base_uri": "https://localhost:8080/"
        },
        "id": "9djy4aqyRH6R",
        "outputId": "680d0572-2540-46c4-95d7-321be1d8fb30"
      },
      "execution_count": null,
      "outputs": [
        {
          "output_type": "execute_result",
          "data": {
            "text/plain": [
              "array([[0., 1., 0., 0., 0., 0., 0., 0., 0., 0., 0., 0., 0., 0., 0.]],\n",
              "      dtype=float32)"
            ]
          },
          "metadata": {},
          "execution_count": 91
        }
      ]
    },
    {
      "cell_type": "code",
      "source": [
        "plants[np.argmax(pr[0])]"
      ],
      "metadata": {
        "colab": {
          "base_uri": "https://localhost:8080/",
          "height": 36
        },
        "id": "mtRzDLqjQ1yj",
        "outputId": "07ab1721-7a4e-495c-84f6-96333df64107"
      },
      "execution_count": null,
      "outputs": [
        {
          "output_type": "execute_result",
          "data": {
            "text/plain": [
              "'Cherry_(including_sour)'"
            ],
            "application/vnd.google.colaboratory.intrinsic+json": {
              "type": "string"
            }
          },
          "metadata": {},
          "execution_count": 92
        }
      ]
    },
    {
      "cell_type": "code",
      "source": [
        "test_loss, test_accuracy = loaded_model.evaluate(test_generator)\n",
        "print(f\"Test Loss: {test_loss}, Test Accuracy: {test_accuracy}\")\n"
      ],
      "metadata": {
        "colab": {
          "base_uri": "https://localhost:8080/",
          "height": 199
        },
        "id": "RvkQBOmRCR41",
        "outputId": "5aed3d51-eb92-460e-948a-2d5ff7c20fe5"
      },
      "execution_count": null,
      "outputs": [
        {
          "output_type": "error",
          "ename": "NameError",
          "evalue": "ignored",
          "traceback": [
            "\u001b[0;31m---------------------------------------------------------------------------\u001b[0m",
            "\u001b[0;31mNameError\u001b[0m                                 Traceback (most recent call last)",
            "\u001b[0;32m<ipython-input-15-56944c792e7c>\u001b[0m in \u001b[0;36m<cell line: 1>\u001b[0;34m()\u001b[0m\n\u001b[0;32m----> 1\u001b[0;31m \u001b[0mtest_loss\u001b[0m\u001b[0;34m,\u001b[0m \u001b[0mtest_accuracy\u001b[0m \u001b[0;34m=\u001b[0m \u001b[0mloaded_model\u001b[0m\u001b[0;34m.\u001b[0m\u001b[0mevaluate\u001b[0m\u001b[0;34m(\u001b[0m\u001b[0mtest_generator\u001b[0m\u001b[0;34m)\u001b[0m\u001b[0;34m\u001b[0m\u001b[0;34m\u001b[0m\u001b[0m\n\u001b[0m\u001b[1;32m      2\u001b[0m \u001b[0mprint\u001b[0m\u001b[0;34m(\u001b[0m\u001b[0;34mf\"Test Loss: {test_loss}, Test Accuracy: {test_accuracy}\"\u001b[0m\u001b[0;34m)\u001b[0m\u001b[0;34m\u001b[0m\u001b[0;34m\u001b[0m\u001b[0m\n",
            "\u001b[0;31mNameError\u001b[0m: name 'loaded_model' is not defined"
          ]
        }
      ]
    },
    {
      "cell_type": "code",
      "source": [
        "test_images, test_labels = test_generator.next()"
      ],
      "metadata": {
        "id": "Ldp7FZTesDlF"
      },
      "execution_count": null,
      "outputs": []
    },
    {
      "cell_type": "code",
      "source": [
        "predictions = model.predict(test_images)"
      ],
      "metadata": {
        "colab": {
          "base_uri": "https://localhost:8080/"
        },
        "id": "9M4gwcxKC3jK",
        "outputId": "c67a2221-48d5-4d89-b6cb-50c0a1583a53"
      },
      "execution_count": null,
      "outputs": [
        {
          "output_type": "stream",
          "name": "stdout",
          "text": [
            "2/2 [==============================] - 1s 12ms/step\n"
          ]
        }
      ]
    },
    {
      "cell_type": "code",
      "source": [
        "predictions"
      ],
      "metadata": {
        "colab": {
          "base_uri": "https://localhost:8080/"
        },
        "id": "P2xPAfqXEVmI",
        "outputId": "314ad4c8-a12a-42f9-80b7-ecc15e85b6bd"
      },
      "execution_count": null,
      "outputs": [
        {
          "output_type": "execute_result",
          "data": {
            "text/plain": [
              "array([[2.56635353e-08, 6.44186185e-16, 7.42975161e-21, 9.99609530e-01,\n",
              "        5.16366108e-15, 1.31902278e-17, 2.74164857e-10, 4.58428842e-15,\n",
              "        1.32887041e-18, 4.50430308e-24, 5.57116886e-21, 3.88767483e-04,\n",
              "        1.73679143e-06, 1.85719509e-10, 2.34975985e-08],\n",
              "       [6.20343377e-09, 4.58508509e-10, 2.14786744e-10, 1.49088387e-17,\n",
              "        1.07138409e-10, 9.99994278e-01, 2.65338347e-08, 8.67070398e-08,\n",
              "        4.05422368e-15, 1.86355702e-17, 1.39098618e-12, 7.94260298e-22,\n",
              "        9.06840819e-17, 5.61140905e-06, 1.40026608e-19],\n",
              "       [4.06566163e-04, 7.93900767e-07, 2.99871899e-05, 4.38388770e-06,\n",
              "        9.79194105e-01, 1.99786795e-04, 6.04553148e-04, 8.31018144e-04,\n",
              "        2.57585343e-05, 9.62356920e-04, 9.40582595e-06, 8.94715195e-05,\n",
              "        1.40680512e-03, 1.61754806e-02, 5.95826968e-05],\n",
              "       [2.12012008e-02, 5.67501690e-03, 7.13435526e-04, 8.09881021e-05,\n",
              "        8.84492474e-04, 3.93054076e-02, 4.50563014e-01, 1.07742762e-02,\n",
              "        7.83225405e-04, 1.26471889e-04, 8.23186070e-04, 3.72273716e-05,\n",
              "        1.29526772e-04, 4.68773276e-01, 1.29188382e-04],\n",
              "       [4.11495090e-01, 1.92466963e-04, 1.82043150e-05, 7.77506735e-04,\n",
              "        5.92598086e-03, 1.70209198e-04, 9.25493538e-02, 2.75630597e-03,\n",
              "        7.75725057e-05, 5.48453900e-05, 2.43673730e-03, 2.20152840e-04,\n",
              "        1.17231342e-04, 4.77502227e-01, 5.70610352e-03],\n",
              "       [5.39003522e-05, 4.98117552e-05, 9.30306499e-08, 3.03216825e-06,\n",
              "        3.15886040e-10, 4.69450931e-08, 9.99131978e-01, 1.45308935e-04,\n",
              "        4.24829016e-09, 9.92170031e-16, 5.07083098e-10, 1.63748216e-11,\n",
              "        9.49654435e-08, 6.13896118e-04, 1.95588245e-06],\n",
              "       [1.20003110e-08, 2.88638861e-12, 4.48390667e-20, 9.99993682e-01,\n",
              "        1.33116363e-16, 1.33939442e-17, 2.45032161e-10, 2.21172494e-12,\n",
              "        3.73457612e-18, 1.20378612e-23, 2.26732119e-19, 3.66384123e-09,\n",
              "        6.15673753e-06, 3.88414811e-09, 2.11771820e-07],\n",
              "       [2.08251714e-03, 9.21712518e-01, 6.49083331e-02, 3.90134019e-12,\n",
              "        9.83745441e-09, 6.23235188e-04, 3.15102661e-05, 7.78860273e-03,\n",
              "        4.51823053e-06, 3.67172447e-07, 2.62966496e-03, 5.04691402e-14,\n",
              "        1.60428854e-07, 2.18530913e-04, 1.07226325e-10],\n",
              "       [9.99958754e-01, 1.12247889e-09, 1.24040882e-12, 1.42696570e-06,\n",
              "        7.84312260e-09, 1.45280401e-08, 9.56344905e-08, 1.06156006e-06,\n",
              "        5.20421413e-14, 1.52222524e-17, 1.86225559e-08, 5.40068153e-13,\n",
              "        2.41104706e-11, 3.86031970e-05, 2.85362378e-09],\n",
              "       [3.86752710e-02, 2.24782573e-03, 3.66328619e-02, 4.26327111e-04,\n",
              "        8.41420442e-02, 3.31568718e-01, 7.03802099e-03, 5.65092592e-03,\n",
              "        2.48630065e-03, 1.10465303e-01, 5.96487662e-03, 6.91209733e-02,\n",
              "        2.67835688e-02, 2.78049707e-01, 7.47294631e-04],\n",
              "       [7.42778420e-01, 1.94700289e-04, 4.82234418e-06, 1.90747064e-02,\n",
              "        1.99289134e-04, 8.88360490e-04, 5.12213856e-02, 4.67089517e-03,\n",
              "        4.08542110e-06, 5.51679875e-08, 3.67375935e-04, 3.29268478e-05,\n",
              "        2.71702556e-05, 1.79537892e-01, 9.97847412e-04],\n",
              "       [2.16478968e-09, 3.12591038e-14, 8.10341117e-12, 1.42743659e-13,\n",
              "        9.99987006e-01, 4.24274162e-08, 1.49695134e-09, 4.44724506e-08,\n",
              "        1.40360857e-12, 1.81177768e-07, 1.81649373e-13, 3.41767977e-12,\n",
              "        9.31417560e-07, 1.18552398e-05, 1.84698576e-10],\n",
              "       [2.96068052e-03, 8.98500904e-04, 7.55605788e-06, 8.17822809e-07,\n",
              "        5.74185629e-04, 1.06678955e-04, 2.02354435e-02, 1.63133070e-03,\n",
              "        2.42715585e-04, 3.03681649e-04, 6.46079308e-04, 7.38092422e-06,\n",
              "        1.78457485e-04, 9.71990347e-01, 2.16247427e-04],\n",
              "       [9.04088467e-02, 6.68839493e-04, 2.85387156e-04, 8.18568282e-03,\n",
              "        2.70303484e-04, 1.29762641e-03, 7.31708527e-01, 1.62812194e-03,\n",
              "        6.84654224e-05, 1.86014609e-06, 1.91776839e-04, 1.41383352e-04,\n",
              "        2.23171781e-04, 1.64655551e-01, 2.64504284e-04],\n",
              "       [9.22482035e-10, 2.40164439e-08, 7.74634301e-10, 7.64813800e-22,\n",
              "        2.84893162e-14, 9.99973297e-01, 8.66640004e-09, 7.93149380e-10,\n",
              "        4.11808824e-17, 1.90666207e-17, 3.24549112e-12, 3.29324751e-25,\n",
              "        5.26967946e-20, 2.67074483e-05, 1.30195964e-22],\n",
              "       [1.57020753e-04, 3.99729925e-06, 2.93450921e-05, 1.18197519e-07,\n",
              "        4.13100452e-06, 6.54598935e-08, 7.23273570e-06, 4.93548810e-03,\n",
              "        9.91101861e-01, 3.17259182e-05, 3.19254352e-04, 9.44152816e-06,\n",
              "        3.09461728e-03, 3.05602123e-04, 3.69341180e-08],\n",
              "       [4.37448267e-03, 2.77339481e-04, 9.77472053e-04, 1.19851720e-05,\n",
              "        3.79894744e-04, 9.96752806e-06, 9.45181469e-04, 2.06789784e-02,\n",
              "        9.24043179e-01, 2.10011075e-03, 5.13488520e-03, 4.95306915e-04,\n",
              "        2.52058692e-02, 1.53424693e-02, 2.29461493e-05],\n",
              "       [3.96098854e-04, 8.02606280e-07, 3.77304161e-08, 1.32228877e-08,\n",
              "        6.79487886e-04, 2.67901669e-07, 1.09987124e-03, 3.62659448e-05,\n",
              "        7.61770616e-06, 1.28900446e-03, 6.21061408e-05, 7.06346464e-06,\n",
              "        4.39193900e-05, 9.96178150e-01, 1.99217073e-04],\n",
              "       [9.89648834e-06, 1.30507667e-08, 3.23933520e-04, 1.74202119e-15,\n",
              "        5.50561410e-08, 8.44623139e-15, 1.95024037e-13, 5.43475151e-04,\n",
              "        8.57723935e-04, 2.94482070e-05, 9.98235345e-01, 1.38452279e-15,\n",
              "        5.13152987e-09, 6.68864502e-08, 1.45862665e-14],\n",
              "       [2.01799825e-01, 3.00357431e-01, 1.76340818e-01, 1.12563266e-05,\n",
              "        6.33853604e-04, 5.10211627e-04, 5.04373747e-04, 5.62368259e-02,\n",
              "        2.42505707e-02, 1.47867445e-02, 1.92363322e-01, 4.14903889e-06,\n",
              "        1.81259587e-02, 1.40579026e-02, 1.67557791e-05],\n",
              "       [9.34871787e-05, 9.33103053e-08, 3.59567827e-11, 2.53189469e-10,\n",
              "        1.14805232e-06, 3.33626260e-09, 1.32399937e-03, 1.54177064e-06,\n",
              "        3.14300799e-08, 1.10076734e-07, 8.84081942e-07, 3.71411168e-09,\n",
              "        1.13000276e-07, 9.98576999e-01, 1.60637273e-06],\n",
              "       [1.15531169e-01, 3.60877849e-02, 9.18880478e-02, 5.36222011e-04,\n",
              "        5.15383435e-03, 8.39754380e-03, 7.60425255e-03, 4.93778706e-01,\n",
              "        9.81331468e-02, 1.75970234e-03, 1.15661941e-01, 8.65673501e-05,\n",
              "        2.59794947e-03, 2.21371297e-02, 6.45966036e-04],\n",
              "       [1.75939098e-01, 2.75061378e-04, 5.62144071e-02, 8.47284609e-05,\n",
              "        6.41826034e-01, 4.71368898e-04, 9.71697923e-03, 6.97224867e-03,\n",
              "        2.48430180e-04, 6.35728389e-02, 2.99439044e-03, 8.69151045e-05,\n",
              "        3.98997776e-03, 3.72269787e-02, 3.80453013e-04],\n",
              "       [5.42891687e-09, 4.43083142e-18, 1.30476020e-17, 2.55740318e-03,\n",
              "        8.83414453e-10, 1.57009500e-15, 4.91136465e-10, 2.26828300e-12,\n",
              "        3.69798116e-12, 5.62139345e-16, 2.41164383e-15, 9.97442126e-01,\n",
              "        4.84467250e-07, 7.29172189e-09, 1.94943901e-08],\n",
              "       [1.90326586e-01, 5.39702289e-02, 1.15839653e-02, 1.69070363e-02,\n",
              "        1.73297932e-03, 2.46517416e-02, 5.42262852e-01, 3.47438119e-02,\n",
              "        1.38962443e-03, 8.27400945e-05, 2.39242963e-03, 4.72365506e-03,\n",
              "        3.62864579e-03, 1.08436279e-01, 3.16744018e-03],\n",
              "       [2.61630873e-07, 3.51807715e-11, 2.19920526e-08, 5.15745618e-21,\n",
              "        5.18992904e-11, 1.06919668e-21, 5.91597217e-18, 9.45354805e-06,\n",
              "        1.64501907e-04, 2.90429824e-07, 9.99825418e-01, 6.76627860e-20,\n",
              "        2.52690993e-11, 1.76196080e-09, 1.11507412e-17],\n",
              "       [1.47330329e-01, 7.56151676e-01, 4.34374996e-03, 1.78726492e-04,\n",
              "        3.04077494e-05, 2.66158883e-03, 5.37244650e-03, 5.87004796e-02,\n",
              "        1.56050446e-04, 3.30100193e-06, 5.18555194e-03, 7.79987715e-07,\n",
              "        5.65435272e-04, 1.92282908e-02, 9.11165189e-05],\n",
              "       [1.62925498e-04, 4.36514892e-05, 9.70959900e-06, 7.35541142e-12,\n",
              "        4.48789649e-07, 9.07203734e-01, 2.54033203e-03, 9.66798234e-06,\n",
              "        5.48837698e-10, 3.08957482e-08, 4.99136195e-06, 3.86532250e-13,\n",
              "        8.72558067e-11, 9.00245532e-02, 3.91409856e-11],\n",
              "       [1.88181624e-02, 1.06415690e-04, 5.86582391e-05, 2.46459385e-05,\n",
              "        7.01146293e-03, 1.87957881e-03, 1.19936578e-01, 2.23792298e-03,\n",
              "        2.78623455e-04, 5.36659791e-04, 3.87838052e-04, 2.50123157e-05,\n",
              "        3.43050633e-04, 8.47955644e-01, 3.99735145e-04],\n",
              "       [1.09005057e-04, 3.75335207e-10, 6.63503528e-08, 6.80564503e-16,\n",
              "        4.32448610e-09, 1.03039782e-19, 3.52747930e-15, 1.46117936e-05,\n",
              "        2.10148632e-04, 2.07918603e-07, 9.99665976e-01, 1.97387510e-14,\n",
              "        1.69782699e-09, 1.20939490e-08, 1.20775692e-14],\n",
              "       [2.50815123e-01, 8.49416759e-03, 2.05290075e-02, 1.38063226e-02,\n",
              "        1.18003204e-01, 2.98827216e-02, 7.93973133e-02, 8.81394967e-02,\n",
              "        3.56608592e-02, 2.44301539e-02, 8.38267058e-03, 1.14524655e-01,\n",
              "        4.75369655e-02, 1.49918258e-01, 1.04790581e-02],\n",
              "       [2.07142802e-13, 5.81969331e-19, 3.64023380e-33, 1.00000000e+00,\n",
              "        1.93574189e-25, 1.64915166e-27, 1.32333453e-16, 5.70823770e-20,\n",
              "        1.27912871e-27, 2.75244786e-35, 6.17909224e-29, 5.29521631e-14,\n",
              "        2.36730169e-09, 2.22872870e-12, 2.70460303e-11],\n",
              "       [7.41446058e-07, 5.50074546e-05, 2.23809737e-03, 7.24947177e-16,\n",
              "        3.45656170e-09, 9.97214139e-01, 2.95501673e-06, 1.45418619e-06,\n",
              "        1.00206675e-11, 3.79463971e-09, 3.35879434e-07, 2.11986390e-17,\n",
              "        1.31396799e-14, 4.87350888e-04, 5.72844094e-16],\n",
              "       [2.00660086e-10, 2.40100464e-18, 7.76310698e-27, 9.99999881e-01,\n",
              "        5.63783946e-20, 1.74901223e-23, 2.89961496e-13, 6.33217461e-19,\n",
              "        1.32241556e-24, 2.05432590e-30, 9.95583323e-26, 3.88621189e-08,\n",
              "        1.12948577e-07, 7.19414491e-13, 2.98396419e-10],\n",
              "       [9.97310996e-01, 8.00526504e-06, 9.12087614e-08, 5.00096321e-05,\n",
              "        3.58633724e-06, 1.94202266e-06, 9.73694023e-06, 2.29994394e-03,\n",
              "        3.39634667e-08, 6.98164920e-12, 3.85455824e-05, 2.82834867e-10,\n",
              "        9.08861040e-08, 2.76302540e-04, 7.77212506e-07],\n",
              "       [5.00509977e-01, 3.83261289e-03, 1.16579491e-03, 5.02755539e-03,\n",
              "        1.70144215e-02, 1.16034746e-02, 6.93478286e-02, 2.96269283e-02,\n",
              "        2.39335210e-03, 7.99974019e-04, 5.33324387e-03, 1.14791524e-02,\n",
              "        4.32248646e-03, 3.35359663e-01, 2.18355493e-03],\n",
              "       [2.53917824e-04, 2.67162424e-04, 3.84893566e-02, 1.77796486e-10,\n",
              "        9.66516836e-06, 9.51002240e-01, 1.40673437e-04, 1.62810960e-04,\n",
              "        3.61147130e-08, 4.28703606e-06, 5.67444331e-05, 3.34371836e-11,\n",
              "        3.38554934e-10, 9.61305667e-03, 3.69543111e-11],\n",
              "       [9.65670210e-10, 6.33846975e-10, 2.57217251e-11, 5.36758348e-21,\n",
              "        3.12614323e-15, 9.99995232e-01, 1.08049170e-08, 4.47583837e-09,\n",
              "        4.52105424e-17, 3.70568311e-21, 3.24006826e-13, 1.31463275e-25,\n",
              "        4.51640816e-21, 4.74808257e-06, 6.23755079e-24],\n",
              "       [1.03828791e-06, 6.21355245e-10, 3.21527797e-04, 1.00847182e-18,\n",
              "        5.96026561e-09, 8.87170927e-17, 8.24994166e-15, 1.52691544e-04,\n",
              "        2.99274316e-03, 1.87864309e-04, 9.96344149e-01, 2.84369276e-17,\n",
              "        1.16293430e-09, 2.16366622e-08, 4.27823008e-17],\n",
              "       [5.84309589e-07, 7.79134339e-08, 1.24530970e-07, 2.65745423e-14,\n",
              "        3.07589696e-12, 9.99960661e-01, 1.53445103e-06, 2.01973398e-05,\n",
              "        2.10070863e-10, 4.83626908e-16, 2.25931918e-09, 3.60960071e-18,\n",
              "        1.22642589e-15, 1.68119768e-05, 2.49111976e-18],\n",
              "       [5.05974051e-03, 1.86351559e-03, 9.72260663e-04, 4.09288768e-05,\n",
              "        2.51479854e-04, 1.16906829e-01, 7.62774587e-01, 3.49467136e-02,\n",
              "        8.10706057e-04, 6.87480792e-07, 9.43071936e-05, 3.52958045e-06,\n",
              "        1.71243573e-05, 7.62422681e-02, 1.53722649e-05],\n",
              "       [1.62322813e-08, 1.22767627e-13, 3.40504246e-20, 9.99986768e-01,\n",
              "        6.07713142e-12, 3.45032942e-16, 3.64601627e-10, 6.75457682e-13,\n",
              "        1.33901731e-17, 5.73872251e-22, 3.07481790e-18, 9.49800096e-08,\n",
              "        1.28099882e-05, 1.80545481e-08, 3.30589302e-07],\n",
              "       [1.61337846e-10, 5.63480790e-11, 9.99997258e-01, 1.11685616e-28,\n",
              "        4.67374132e-13, 5.19122878e-14, 2.65698756e-15, 2.68313556e-06,\n",
              "        2.35637638e-12, 2.50337919e-08, 2.17833627e-08, 6.31012844e-31,\n",
              "        8.22429752e-19, 5.74154372e-14, 1.05113961e-29],\n",
              "       [2.45869713e-04, 8.55128019e-06, 6.90559973e-05, 3.22532060e-07,\n",
              "        9.37059394e-06, 2.53085432e-07, 1.98790622e-05, 8.44532624e-03,\n",
              "        9.86792088e-01, 5.06112701e-05, 4.05298721e-04, 1.65024940e-05,\n",
              "        3.46540310e-03, 4.71419306e-04, 1.00371906e-07],\n",
              "       [8.66714120e-03, 3.33798991e-04, 3.02025201e-05, 8.29413757e-02,\n",
              "        3.66039312e-04, 8.87858369e-06, 6.75166726e-01, 8.46940000e-03,\n",
              "        2.18887333e-04, 2.11977820e-07, 4.12075087e-06, 4.53890394e-03,\n",
              "        4.42713760e-02, 4.76236716e-02, 1.27359316e-01],\n",
              "       [8.64474976e-04, 3.15719095e-09, 3.11573700e-07, 1.30516585e-17,\n",
              "        7.57611265e-11, 3.54994383e-19, 2.38932218e-16, 1.96079891e-05,\n",
              "        1.49640919e-05, 9.70272418e-10, 9.99100566e-01, 1.40826698e-19,\n",
              "        1.49071075e-10, 1.18158239e-09, 1.97677836e-17],\n",
              "       [9.98051405e-01, 1.27784788e-05, 2.92235143e-07, 6.74237299e-07,\n",
              "        1.60402271e-06, 5.05955846e-08, 1.40651364e-05, 1.46567763e-03,\n",
              "        1.09980817e-07, 6.41219022e-11, 8.05047894e-05, 2.97630878e-11,\n",
              "        1.47504039e-07, 3.72563256e-04, 2.34376131e-07],\n",
              "       [4.96696681e-01, 3.08778556e-03, 1.94122913e-04, 2.54210457e-03,\n",
              "        6.01838389e-03, 9.59561366e-05, 9.12421867e-02, 1.16562480e-02,\n",
              "        6.39513019e-04, 3.49315320e-04, 7.84438197e-03, 6.37062942e-04,\n",
              "        3.05619789e-03, 3.14784080e-01, 6.11559674e-02],\n",
              "       [4.52061705e-02, 9.14315403e-01, 1.25348847e-03, 5.72368845e-06,\n",
              "        8.76098875e-06, 9.59335361e-03, 1.31647475e-03, 1.45431561e-02,\n",
              "        2.52635637e-05, 6.57766293e-07, 7.81655021e-04, 1.26093397e-07,\n",
              "        2.08857979e-04, 1.27342427e-02, 6.60550131e-06],\n",
              "       [8.71658549e-02, 8.37038398e-01, 7.97533430e-04, 3.99591090e-06,\n",
              "        8.14485065e-06, 1.21873356e-02, 1.21100747e-03, 1.88019909e-02,\n",
              "        5.80915294e-05, 3.45247213e-06, 3.95035557e-03, 5.69875169e-08,\n",
              "        3.07794427e-04, 3.84506620e-02, 1.53550718e-05],\n",
              "       [1.62190574e-07, 4.59411325e-07, 4.82438356e-09, 4.16179977e-16,\n",
              "        1.30280145e-13, 9.99949455e-01, 2.39084129e-05, 3.46539565e-07,\n",
              "        7.64664550e-14, 1.43376489e-17, 1.91175090e-10, 3.42914549e-21,\n",
              "        1.41181175e-16, 2.58047276e-05, 1.25083781e-18],\n",
              "       [3.06505650e-01, 2.20644102e-02, 1.16927046e-02, 4.36569192e-03,\n",
              "        3.01160896e-03, 2.67693311e-01, 1.08908109e-01, 8.12707841e-02,\n",
              "        7.81265739e-03, 2.47629825e-04, 1.88283976e-02, 8.95467820e-04,\n",
              "        2.05235160e-03, 1.63676441e-01, 9.74760565e-04],\n",
              "       [2.50642421e-04, 9.44400745e-05, 6.54312025e-05, 6.71846010e-08,\n",
              "        1.15034879e-07, 5.80995142e-01, 4.14980173e-01, 1.47839065e-03,\n",
              "        1.31285020e-07, 7.33087809e-12, 2.18879973e-06, 9.98981800e-12,\n",
              "        2.78512907e-10, 2.13328144e-03, 1.14411891e-09],\n",
              "       [7.90602192e-02, 1.13145169e-02, 1.41620089e-03, 8.06699158e-04,\n",
              "        4.58902074e-03, 1.92805137e-02, 1.87731043e-01, 1.38978317e-01,\n",
              "        5.94454352e-03, 4.18255833e-04, 2.57933093e-03, 5.14081446e-04,\n",
              "        1.93711871e-03, 5.42481601e-01, 2.94859544e-03],\n",
              "       [8.55853723e-05, 1.15521141e-06, 9.88056996e-08, 1.07333908e-09,\n",
              "        4.12524605e-06, 4.51822399e-11, 9.36864524e-08, 9.43291379e-05,\n",
              "        3.73720884e-01, 5.21933252e-04, 5.42050439e-05, 1.48344880e-05,\n",
              "        6.25237107e-01, 2.65683309e-04, 5.90719518e-09],\n",
              "       [7.45029070e-07, 3.22543638e-05, 3.56733472e-06, 4.15216954e-16,\n",
              "        6.05732353e-10, 9.98789370e-01, 5.65382788e-06, 4.52678336e-07,\n",
              "        2.84419428e-12, 5.44001962e-11, 2.39581510e-08, 2.45694417e-18,\n",
              "        5.51572812e-14, 1.16803206e-03, 1.10020760e-15],\n",
              "       [8.31962284e-03, 3.35688383e-04, 7.76221097e-01, 4.50553841e-07,\n",
              "        1.61505421e-03, 5.19959067e-05, 8.13554871e-05, 5.27157597e-02,\n",
              "        2.25681327e-02, 1.75942872e-02, 1.18911877e-01, 3.73622385e-07,\n",
              "        1.92511026e-04, 1.39161933e-03, 2.31069976e-07],\n",
              "       [1.47254560e-02, 1.10352633e-03, 4.05473918e-01, 4.73109358e-05,\n",
              "        2.67567835e-03, 1.92566204e-03, 4.79676499e-04, 2.52979964e-01,\n",
              "        1.84746712e-01, 2.05458589e-02, 1.11011378e-01, 1.83756893e-05,\n",
              "        6.97837037e-04, 3.55601730e-03, 1.26414634e-05],\n",
              "       [9.78588462e-01, 3.50142436e-05, 1.02535138e-04, 3.85124895e-06,\n",
              "        1.27161002e-05, 7.04772447e-06, 4.68797138e-04, 1.33552086e-02,\n",
              "        7.00072496e-06, 1.58737574e-08, 4.83302819e-03, 2.78526952e-10,\n",
              "        2.61512554e-07, 2.58333050e-03, 2.74212221e-06],\n",
              "       [8.26431587e-02, 7.02581555e-03, 1.80823617e-02, 3.48880771e-03,\n",
              "        3.27930748e-02, 4.56308434e-03, 1.20643750e-01, 1.20504126e-01,\n",
              "        2.88604677e-01, 2.60570124e-02, 9.12860408e-03, 5.78248464e-02,\n",
              "        6.36782497e-02, 1.59351587e-01, 5.61085390e-03],\n",
              "       [1.57002678e-08, 3.35578071e-12, 4.87185665e-04, 1.15399176e-20,\n",
              "        3.36529192e-05, 1.50214612e-13, 3.76613583e-14, 1.51033291e-07,\n",
              "        3.12002953e-07, 9.99312758e-01, 1.65679608e-04, 1.07295655e-16,\n",
              "        2.14044924e-08, 1.57031948e-07, 1.69265969e-16],\n",
              "       [1.93392232e-04, 2.58150523e-09, 1.97837764e-08, 7.43834969e-18,\n",
              "        4.63169329e-11, 8.46014966e-21, 1.10728461e-16, 7.02593479e-06,\n",
              "        2.29566649e-05, 2.91916447e-09, 9.99776542e-01, 4.41040398e-19,\n",
              "        3.13911896e-10, 2.40965381e-09, 1.11859462e-16],\n",
              "       [9.92331624e-01, 5.11666585e-05, 1.02828326e-05, 5.98167117e-06,\n",
              "        7.99829941e-05, 4.49984109e-05, 4.28868749e-04, 1.32584723e-03,\n",
              "        1.74797719e-06, 1.16479974e-07, 6.78951852e-04, 3.27280469e-09,\n",
              "        2.59503463e-06, 5.03553869e-03, 2.28739714e-06],\n",
              "       [6.48076506e-03, 5.41083456e-04, 6.41574006e-05, 8.71823545e-07,\n",
              "        1.12022064e-03, 4.36697383e-06, 1.51747063e-05, 5.07622911e-03,\n",
              "        1.05568841e-01, 1.13648800e-02, 3.38916841e-04, 5.25296491e-04,\n",
              "        8.63875866e-01, 5.02038747e-03, 2.85404485e-06]], dtype=float32)"
            ]
          },
          "metadata": {},
          "execution_count": 43
        }
      ]
    },
    {
      "cell_type": "code",
      "source": [
        "yhat = np.argmax(predictions, axis=1).tolist()\n",
        "ytrue = np.argmax(test_labels, axis=1).tolist()"
      ],
      "metadata": {
        "id": "ORm3PbnlFYkX"
      },
      "execution_count": null,
      "outputs": []
    },
    {
      "cell_type": "code",
      "source": [],
      "metadata": {
        "id": "qZiUkPiRpaHd"
      },
      "execution_count": null,
      "outputs": []
    },
    {
      "cell_type": "code",
      "source": [
        "plants[yhat[50]]"
      ],
      "metadata": {
        "colab": {
          "base_uri": "https://localhost:8080/",
          "height": 36
        },
        "id": "uT4Xs91HF3V-",
        "outputId": "9c7ad7ed-ee49-45b7-c002-b853d861efe4"
      },
      "execution_count": null,
      "outputs": [
        {
          "output_type": "execute_result",
          "data": {
            "text/plain": [
              "'Strawberry'"
            ],
            "application/vnd.google.colaboratory.intrinsic+json": {
              "type": "string"
            }
          },
          "metadata": {},
          "execution_count": 68
        }
      ]
    },
    {
      "cell_type": "code",
      "source": [
        "plants[ytrue[50]]"
      ],
      "metadata": {
        "colab": {
          "base_uri": "https://localhost:8080/",
          "height": 36
        },
        "id": "nQ0pMBDQpNo2",
        "outputId": "7cd6a72d-461c-4a3e-98ec-13afeb885a02"
      },
      "execution_count": null,
      "outputs": [
        {
          "output_type": "execute_result",
          "data": {
            "text/plain": [
              "'Strawberry'"
            ],
            "application/vnd.google.colaboratory.intrinsic+json": {
              "type": "string"
            }
          },
          "metadata": {},
          "execution_count": 69
        }
      ]
    },
    {
      "cell_type": "code",
      "source": [
        "\n",
        "\n",
        "from sklearn.metrics import multilabel_confusion_matrix, accuracy_score\n",
        "multilabel_confusion_matrix(ytrue, yhat)"
      ],
      "metadata": {
        "id": "eMqEFioWF4lV",
        "colab": {
          "base_uri": "https://localhost:8080/"
        },
        "outputId": "844cdd3f-e733-47b3-e55e-685a59100711"
      },
      "execution_count": null,
      "outputs": [
        {
          "output_type": "execute_result",
          "data": {
            "text/plain": [
              "array([[[53,  4],\n",
              "        [ 1,  6]],\n",
              "\n",
              "       [[59,  0],\n",
              "        [ 0,  5]],\n",
              "\n",
              "       [[58,  2],\n",
              "        [ 3,  1]],\n",
              "\n",
              "       [[58,  0],\n",
              "        [ 1,  5]],\n",
              "\n",
              "       [[61,  0],\n",
              "        [ 0,  3]],\n",
              "\n",
              "       [[53,  2],\n",
              "        [ 0,  9]],\n",
              "\n",
              "       [[58,  2],\n",
              "        [ 1,  3]],\n",
              "\n",
              "       [[60,  0],\n",
              "        [ 3,  1]],\n",
              "\n",
              "       [[60,  2],\n",
              "        [ 0,  2]],\n",
              "\n",
              "       [[63,  0],\n",
              "        [ 0,  1]],\n",
              "\n",
              "       [[58,  0],\n",
              "        [ 0,  6]],\n",
              "\n",
              "       [[63,  0],\n",
              "        [ 0,  1]],\n",
              "\n",
              "       [[62,  0],\n",
              "        [ 0,  2]],\n",
              "\n",
              "       [[53,  1],\n",
              "        [ 4,  6]]])"
            ]
          },
          "metadata": {},
          "execution_count": 70
        }
      ]
    },
    {
      "cell_type": "code",
      "source": [
        "import numpy as np\n",
        "from sklearn.metrics import confusion_matrix, classification_report\n",
        "\n",
        "cm = confusion_matrix(ytrue, yhat)\n",
        "cm"
      ],
      "metadata": {
        "id": "y7gQ-KjUsc7r",
        "colab": {
          "base_uri": "https://localhost:8080/"
        },
        "outputId": "557da212-9320-443e-b20e-9c81fd98d6b8"
      },
      "execution_count": null,
      "outputs": [
        {
          "output_type": "execute_result",
          "data": {
            "text/plain": [
              "array([[6, 0, 0, 0, 0, 0, 1, 0, 0, 0, 0, 0, 0, 0],\n",
              "       [0, 5, 0, 0, 0, 0, 0, 0, 0, 0, 0, 0, 0, 0],\n",
              "       [3, 0, 1, 0, 0, 0, 0, 0, 0, 0, 0, 0, 0, 0],\n",
              "       [0, 0, 0, 5, 0, 0, 1, 0, 0, 0, 0, 0, 0, 0],\n",
              "       [0, 0, 0, 0, 3, 0, 0, 0, 0, 0, 0, 0, 0, 0],\n",
              "       [0, 0, 0, 0, 0, 9, 0, 0, 0, 0, 0, 0, 0, 0],\n",
              "       [0, 0, 0, 0, 0, 1, 3, 0, 0, 0, 0, 0, 0, 0],\n",
              "       [0, 0, 2, 0, 0, 0, 0, 1, 0, 0, 0, 0, 0, 1],\n",
              "       [0, 0, 0, 0, 0, 0, 0, 0, 2, 0, 0, 0, 0, 0],\n",
              "       [0, 0, 0, 0, 0, 0, 0, 0, 0, 1, 0, 0, 0, 0],\n",
              "       [0, 0, 0, 0, 0, 0, 0, 0, 0, 0, 6, 0, 0, 0],\n",
              "       [0, 0, 0, 0, 0, 0, 0, 0, 0, 0, 0, 1, 0, 0],\n",
              "       [0, 0, 0, 0, 0, 0, 0, 0, 0, 0, 0, 0, 2, 0],\n",
              "       [1, 0, 0, 0, 0, 1, 0, 0, 2, 0, 0, 0, 0, 6]])"
            ]
          },
          "metadata": {},
          "execution_count": 47
        }
      ]
    },
    {
      "cell_type": "code",
      "source": [
        "cr = classification_report(ytrue, yhat)\n",
        "print(cr)"
      ],
      "metadata": {
        "colab": {
          "base_uri": "https://localhost:8080/"
        },
        "id": "--irgbeEL9kC",
        "outputId": "c661ffec-900f-474b-d426-7718dfff703d"
      },
      "execution_count": null,
      "outputs": [
        {
          "output_type": "stream",
          "name": "stdout",
          "text": [
            "              precision    recall  f1-score   support\n",
            "\n",
            "           0       0.60      0.86      0.71         7\n",
            "           1       1.00      1.00      1.00         5\n",
            "           2       0.33      0.25      0.29         4\n",
            "           3       1.00      0.83      0.91         6\n",
            "           4       1.00      1.00      1.00         3\n",
            "           5       0.82      1.00      0.90         9\n",
            "           6       0.60      0.75      0.67         4\n",
            "           7       1.00      0.25      0.40         4\n",
            "           8       0.50      1.00      0.67         2\n",
            "           9       1.00      1.00      1.00         1\n",
            "          10       1.00      1.00      1.00         6\n",
            "          11       1.00      1.00      1.00         1\n",
            "          12       1.00      1.00      1.00         2\n",
            "          13       0.86      0.60      0.71        10\n",
            "\n",
            "    accuracy                           0.80        64\n",
            "   macro avg       0.84      0.82      0.80        64\n",
            "weighted avg       0.83      0.80      0.79        64\n",
            "\n"
          ]
        }
      ]
    },
    {
      "cell_type": "code",
      "source": [
        "import pandas as pd\n",
        "\n",
        "report = classification_report(ytrue, yhat, target_names=[f'Class {i}' for i in range(len(plants))])\n",
        "print(report)\n",
        "\n",
        "# Convert the classification report to a Pandas DataFrame for better visualization\n",
        "report_dict = classification_report(ytrue, yhat, target_names=[f'Class {i}' for i in range(len(plants))], output_dict=True)\n",
        "report_df = pd.DataFrame(report_dict).transpose()\n",
        "print(report_df)"
      ],
      "metadata": {
        "colab": {
          "base_uri": "https://localhost:8080/"
        },
        "id": "67AeYwp4kUbt",
        "outputId": "ff6fec15-986a-4fca-dbe3-c94f47d0799c"
      },
      "execution_count": null,
      "outputs": [
        {
          "output_type": "stream",
          "name": "stdout",
          "text": [
            "              precision    recall  f1-score   support\n",
            "\n",
            "     Class 0       0.28      0.68      0.39        34\n",
            "     Class 1       0.86      1.00      0.92        12\n",
            "     Class 2       0.62      0.33      0.43        24\n",
            "     Class 3       0.92      0.95      0.93        37\n",
            "     Class 4       0.87      0.95      0.91        41\n",
            "     Class 5       1.00      0.97      0.98        63\n",
            "     Class 6       0.42      0.93      0.58        14\n",
            "     Class 7       0.62      0.91      0.74        23\n",
            "     Class 8       0.67      0.74      0.70        27\n",
            "     Class 9       0.50      1.00      0.67         3\n",
            "    Class 10       0.96      0.84      0.89        55\n",
            "    Class 11       0.63      1.00      0.78        19\n",
            "    Class 12       0.82      0.88      0.85        16\n",
            "    Class 13       1.00      0.35      0.51       124\n",
            "    Class 14       1.00      0.88      0.93         8\n",
            "\n",
            "    accuracy                           0.73       500\n",
            "   macro avg       0.74      0.83      0.75       500\n",
            "weighted avg       0.83      0.73      0.73       500\n",
            "\n",
            "              precision    recall  f1-score  support\n",
            "Class 0        0.277108  0.676471  0.393162   34.000\n",
            "Class 1        0.857143  1.000000  0.923077   12.000\n",
            "Class 2        0.615385  0.333333  0.432432   24.000\n",
            "Class 3        0.921053  0.945946  0.933333   37.000\n",
            "Class 4        0.866667  0.951220  0.906977   41.000\n",
            "Class 5        1.000000  0.968254  0.983871   63.000\n",
            "Class 6        0.419355  0.928571  0.577778   14.000\n",
            "Class 7        0.617647  0.913043  0.736842   23.000\n",
            "Class 8        0.666667  0.740741  0.701754   27.000\n",
            "Class 9        0.500000  1.000000  0.666667    3.000\n",
            "Class 10       0.958333  0.836364  0.893204   55.000\n",
            "Class 11       0.633333  1.000000  0.775510   19.000\n",
            "Class 12       0.823529  0.875000  0.848485   16.000\n",
            "Class 13       1.000000  0.346774  0.514970  124.000\n",
            "Class 14       1.000000  0.875000  0.933333    8.000\n",
            "accuracy       0.728000  0.728000  0.728000    0.728\n",
            "macro avg      0.743748  0.826048  0.748093  500.000\n",
            "weighted avg   0.833168  0.728000  0.726539  500.000\n"
          ]
        }
      ]
    },
    {
      "cell_type": "code",
      "source": [
        "print(\"Classification Report:\\n\", classification_report(ytrue, yhat))"
      ],
      "metadata": {
        "colab": {
          "base_uri": "https://localhost:8080/"
        },
        "id": "kVoKZbdRWbNk",
        "outputId": "bc34beb9-41a1-47b6-ea50-3b82dafda7af"
      },
      "execution_count": null,
      "outputs": [
        {
          "output_type": "stream",
          "name": "stdout",
          "text": [
            "Classification Report:\n",
            "               precision    recall  f1-score   support\n",
            "\n",
            "           0       0.28      0.68      0.39        34\n",
            "           1       0.86      1.00      0.92        12\n",
            "           2       0.62      0.33      0.43        24\n",
            "           3       0.92      0.95      0.93        37\n",
            "           4       0.87      0.95      0.91        41\n",
            "           5       1.00      0.97      0.98        63\n",
            "           6       0.42      0.93      0.58        14\n",
            "           7       0.62      0.91      0.74        23\n",
            "           8       0.67      0.74      0.70        27\n",
            "           9       0.50      1.00      0.67         3\n",
            "          10       0.96      0.84      0.89        55\n",
            "          11       0.63      1.00      0.78        19\n",
            "          12       0.82      0.88      0.85        16\n",
            "          13       1.00      0.35      0.51       124\n",
            "          14       1.00      0.88      0.93         8\n",
            "\n",
            "    accuracy                           0.73       500\n",
            "   macro avg       0.74      0.83      0.75       500\n",
            "weighted avg       0.83      0.73      0.73       500\n",
            "\n"
          ]
        }
      ]
    },
    {
      "cell_type": "code",
      "source": [
        "import matplotlib.pyplot as plt\n",
        "import seaborn as sns\n",
        "\n",
        "# Display the confusion matrix using seaborn\n",
        "plt.figure(figsize=(10, 8))\n",
        "sns.heatmap(cm, annot=True, fmt=\"d\", cmap=\"Blues\", xticklabels=range(15), yticklabels=range(15))\n",
        "plt.xlabel(\"Predicted\")\n",
        "plt.ylabel(\"True\")\n",
        "plt.title(\"Confusion Matrix\")\n",
        "plt.show()"
      ],
      "metadata": {
        "id": "DA1TcPigOrCY",
        "colab": {
          "base_uri": "https://localhost:8080/",
          "height": 262
        },
        "outputId": "ea323e05-2c9e-43af-a9be-ac9c6e11e6df"
      },
      "execution_count": null,
      "outputs": [
        {
          "output_type": "error",
          "ename": "NameError",
          "evalue": "ignored",
          "traceback": [
            "\u001b[0;31m---------------------------------------------------------------------------\u001b[0m",
            "\u001b[0;31mNameError\u001b[0m                                 Traceback (most recent call last)",
            "\u001b[0;32m<ipython-input-12-e069de568bd9>\u001b[0m in \u001b[0;36m<cell line: 6>\u001b[0;34m()\u001b[0m\n\u001b[1;32m      4\u001b[0m \u001b[0;31m# Display the confusion matrix using seaborn\u001b[0m\u001b[0;34m\u001b[0m\u001b[0;34m\u001b[0m\u001b[0m\n\u001b[1;32m      5\u001b[0m \u001b[0mplt\u001b[0m\u001b[0;34m.\u001b[0m\u001b[0mfigure\u001b[0m\u001b[0;34m(\u001b[0m\u001b[0mfigsize\u001b[0m\u001b[0;34m=\u001b[0m\u001b[0;34m(\u001b[0m\u001b[0;36m10\u001b[0m\u001b[0;34m,\u001b[0m \u001b[0;36m8\u001b[0m\u001b[0;34m)\u001b[0m\u001b[0;34m)\u001b[0m\u001b[0;34m\u001b[0m\u001b[0;34m\u001b[0m\u001b[0m\n\u001b[0;32m----> 6\u001b[0;31m \u001b[0msns\u001b[0m\u001b[0;34m.\u001b[0m\u001b[0mheatmap\u001b[0m\u001b[0;34m(\u001b[0m\u001b[0mcm\u001b[0m\u001b[0;34m,\u001b[0m \u001b[0mannot\u001b[0m\u001b[0;34m=\u001b[0m\u001b[0;32mTrue\u001b[0m\u001b[0;34m,\u001b[0m \u001b[0mfmt\u001b[0m\u001b[0;34m=\u001b[0m\u001b[0;34m\"d\"\u001b[0m\u001b[0;34m,\u001b[0m \u001b[0mcmap\u001b[0m\u001b[0;34m=\u001b[0m\u001b[0;34m\"Blues\"\u001b[0m\u001b[0;34m,\u001b[0m \u001b[0mxticklabels\u001b[0m\u001b[0;34m=\u001b[0m\u001b[0mrange\u001b[0m\u001b[0;34m(\u001b[0m\u001b[0;36m15\u001b[0m\u001b[0;34m)\u001b[0m\u001b[0;34m,\u001b[0m \u001b[0myticklabels\u001b[0m\u001b[0;34m=\u001b[0m\u001b[0mrange\u001b[0m\u001b[0;34m(\u001b[0m\u001b[0;36m15\u001b[0m\u001b[0;34m)\u001b[0m\u001b[0;34m)\u001b[0m\u001b[0;34m\u001b[0m\u001b[0;34m\u001b[0m\u001b[0m\n\u001b[0m\u001b[1;32m      7\u001b[0m \u001b[0mplt\u001b[0m\u001b[0;34m.\u001b[0m\u001b[0mxlabel\u001b[0m\u001b[0;34m(\u001b[0m\u001b[0;34m\"Predicted\"\u001b[0m\u001b[0;34m)\u001b[0m\u001b[0;34m\u001b[0m\u001b[0;34m\u001b[0m\u001b[0m\n\u001b[1;32m      8\u001b[0m \u001b[0mplt\u001b[0m\u001b[0;34m.\u001b[0m\u001b[0mylabel\u001b[0m\u001b[0;34m(\u001b[0m\u001b[0;34m\"True\"\u001b[0m\u001b[0;34m)\u001b[0m\u001b[0;34m\u001b[0m\u001b[0;34m\u001b[0m\u001b[0m\n",
            "\u001b[0;31mNameError\u001b[0m: name 'cm' is not defined"
          ]
        },
        {
          "output_type": "display_data",
          "data": {
            "text/plain": [
              "<Figure size 1000x800 with 0 Axes>"
            ]
          },
          "metadata": {}
        }
      ]
    },
    {
      "cell_type": "code",
      "source": [
        "classes[20]"
      ],
      "metadata": {
        "colab": {
          "base_uri": "https://localhost:8080/",
          "height": 36
        },
        "id": "i3PWYFZKOuGY",
        "outputId": "5af25c95-283c-47d5-9f2e-8547a64d2448"
      },
      "execution_count": null,
      "outputs": [
        {
          "output_type": "execute_result",
          "data": {
            "text/plain": [
              "'Tomato___Tomato_Yellow_Leaf_Curl_Virus'"
            ],
            "application/vnd.google.colaboratory.intrinsic+json": {
              "type": "string"
            }
          },
          "metadata": {},
          "execution_count": 45
        }
      ]
    },
    {
      "cell_type": "code",
      "source": [],
      "metadata": {
        "id": "UZSDlmH4O2Zd"
      },
      "execution_count": null,
      "outputs": []
    },
    {
      "cell_type": "code",
      "source": [],
      "metadata": {
        "id": "uzJK7UBvXgiV"
      },
      "execution_count": null,
      "outputs": []
    },
    {
      "cell_type": "code",
      "source": [
        "\n"
      ],
      "metadata": {
        "id": "2ryiE41RXgXu"
      },
      "execution_count": null,
      "outputs": []
    },
    {
      "cell_type": "code",
      "source": [],
      "metadata": {
        "id": "edzBBqvyW6iD"
      },
      "execution_count": null,
      "outputs": []
    },
    {
      "cell_type": "code",
      "source": [],
      "metadata": {
        "id": "znmQpAo0XeYA"
      },
      "execution_count": null,
      "outputs": []
    },
    {
      "cell_type": "code",
      "source": [],
      "metadata": {
        "id": "Rt-KEu4-X8lL"
      },
      "execution_count": null,
      "outputs": []
    }
  ]
}